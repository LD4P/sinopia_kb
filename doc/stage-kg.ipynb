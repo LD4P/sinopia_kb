{
 "cells": [
  {
   "cell_type": "markdown",
   "metadata": {},
   "source": [
    "# Sinopia Knowledge Graph\n",
    "This notebook creates a Sinopia [kglab](https://derwen.ai/docs/kgl/) Knowledge Graph."
   ]
  },
  {
   "cell_type": "code",
   "execution_count": 2,
   "metadata": {
    "collapsed": true,
    "jupyter": {
     "outputs_hidden": true
    },
    "tags": []
   },
   "outputs": [
    {
     "name": "stdout",
     "output_type": "stream",
     "text": [
      "Collecting kglab\n",
      "  Using cached kglab-0.4.0-py3-none-any.whl (39 kB)\n",
      "Collecting urlpath>=1.1.7\n",
      "  Using cached urlpath-1.1.7.tar.gz (12 kB)\n",
      "Collecting gcsfs>=0.7.1\n",
      "  Downloading gcsfs-2021.5.0-py2.py3-none-any.whl (24 kB)\n",
      "Collecting pyvis>=0.1.7.0\n",
      "  Using cached pyvis-0.1.9-py3-none-any.whl (23 kB)\n",
      "Collecting csvwlib>=0.3.2\n",
      "  Using cached csvwlib-0.3.2-py3-none-any.whl (32 kB)\n",
      "Requirement already satisfied: scikit-learn>=0.20.2 in /Users/jpnelson/02021/sul-dlss/labs/ml-env/lib/python3.8/site-packages (from kglab) (0.24.1)\n",
      "Collecting rdflib-jsonld>=0.5.0\n",
      "  Using cached rdflib_jsonld-0.5.0-py2.py3-none-any.whl\n",
      "Collecting owlrl>=5.2.1\n",
      "  Using cached owlrl-5.2.1-py3-none-any.whl (56 kB)\n",
      "Collecting pslpython>=2.2.2\n",
      "  Using cached pslpython-2.2.2-py3-none-any.whl (20.4 MB)\n",
      "Requirement already satisfied: tqdm>=4.56 in /Users/jpnelson/02021/sul-dlss/labs/ml-env/lib/python3.8/site-packages (from kglab) (4.59.0)\n",
      "Requirement already satisfied: decorator>=4.4.2 in /Users/jpnelson/02021/sul-dlss/labs/ml-env/lib/python3.8/site-packages (from kglab) (4.4.2)\n",
      "Collecting rdflib>=5.0.0\n",
      "  Using cached rdflib-5.0.0-py3-none-any.whl (231 kB)\n",
      "Collecting pylev>=1.3\n",
      "  Using cached pylev-1.3.0-py2.py3-none-any.whl (4.9 kB)\n",
      "Collecting icecream>=2.0\n",
      "  Using cached icecream-2.1.0-py2.py3-none-any.whl (8.0 kB)\n",
      "Collecting pynvml>=8.0.4\n",
      "  Using cached pynvml-8.0.4-py3-none-any.whl (36 kB)\n",
      "Requirement already satisfied: gensim>=3.8.3 in /Users/jpnelson/02021/sul-dlss/labs/ml-env/lib/python3.8/site-packages (from kglab) (4.0.1)\n",
      "Collecting fsspec[gs,s3]>=0.8.5\n",
      "  Downloading fsspec-2021.5.0-py3-none-any.whl (111 kB)\n",
      "\u001b[K     |████████████████████████████████| 111 kB 2.7 MB/s eta 0:00:01\n",
      "\u001b[?25hCollecting chocolate>=0.0.2\n",
      "  Using cached chocolate-0.0.2-py3-none-any.whl (2.1 kB)\n",
      "Requirement already satisfied: pandas>=1.1.5 in /Users/jpnelson/02021/sul-dlss/labs/ml-env/lib/python3.8/site-packages (from kglab) (1.2.3)\n",
      "Requirement already satisfied: pygments>=2.7.4 in /Users/jpnelson/02021/sul-dlss/labs/ml-env/lib/python3.8/site-packages (from kglab) (2.8.1)\n",
      "Requirement already satisfied: torch>=1.8 in /Users/jpnelson/02021/sul-dlss/labs/ml-env/lib/python3.8/site-packages (from kglab) (1.8.1)\n",
      "Collecting networkx>=2.5\n",
      "  Using cached networkx-2.5.1-py3-none-any.whl (1.6 MB)\n",
      "Requirement already satisfied: matplotlib>=3.3.4 in /Users/jpnelson/02021/sul-dlss/labs/ml-env/lib/python3.8/site-packages (from kglab) (3.3.4)\n",
      "Requirement already satisfied: python-dateutil>=2.8 in /Users/jpnelson/02021/sul-dlss/labs/ml-env/lib/python3.8/site-packages (from kglab) (2.8.1)\n",
      "Collecting pyshacl>=0.14.2\n",
      "  Using cached pyshacl-0.14.3-py3-none-any.whl (191 kB)\n",
      "Requirement already satisfied: numpy>=1.19.2 in /Users/jpnelson/02021/sul-dlss/labs/ml-env/lib/python3.8/site-packages (from kglab) (1.20.1)\n",
      "Collecting statsmodels>=0.12\n",
      "  Downloading statsmodels-0.12.2-cp38-cp38-macosx_10_15_x86_64.whl (9.5 MB)\n",
      "\u001b[K     |████████████████████████████████| 9.5 MB 5.3 MB/s eta 0:00:01\n",
      "\u001b[?25hRequirement already satisfied: requests>=2.25.1 in /Users/jpnelson/02021/sul-dlss/labs/ml-env/lib/python3.8/site-packages (from kglab) (2.25.1)\n",
      "Requirement already satisfied: pyarrow>=2.0.0 in /Users/jpnelson/02021/sul-dlss/labs/ml-env/lib/python3.8/site-packages (from kglab) (3.0.0)\n",
      "Collecting language-tags>=0.4.3\n",
      "  Using cached language_tags-1.1.0-py2.py3-none-any.whl (210 kB)\n",
      "Collecting uritemplate>=3.0.0\n",
      "  Using cached uritemplate-3.0.1-py2.py3-none-any.whl (15 kB)\n",
      "Collecting s3fs\n",
      "  Downloading s3fs-2021.5.0-py3-none-any.whl (24 kB)\n",
      "Collecting aiohttp\n",
      "  Downloading aiohttp-3.7.4.post0-cp38-cp38-macosx_10_14_x86_64.whl (648 kB)\n",
      "\u001b[K     |████████████████████████████████| 648 kB 4.7 MB/s eta 0:00:01\n",
      "\u001b[?25hCollecting google-auth-oauthlib\n",
      "  Using cached google_auth_oauthlib-0.4.4-py2.py3-none-any.whl (18 kB)\n",
      "Collecting google-auth>=1.2\n",
      "  Using cached google_auth-1.30.0-py2.py3-none-any.whl (146 kB)\n",
      "Requirement already satisfied: scipy>=0.18.1 in /Users/jpnelson/02021/sul-dlss/labs/ml-env/lib/python3.8/site-packages (from gensim>=3.8.3->kglab) (1.6.3)\n",
      "Requirement already satisfied: smart-open>=1.8.1 in /Users/jpnelson/02021/sul-dlss/labs/ml-env/lib/python3.8/site-packages (from gensim>=3.8.3->kglab) (3.0.0)\n",
      "Requirement already satisfied: setuptools>=40.3.0 in /Users/jpnelson/02021/sul-dlss/labs/ml-env/lib/python3.8/site-packages (from google-auth>=1.2->gcsfs>=0.7.1->kglab) (41.2.0)\n",
      "Requirement already satisfied: six>=1.9.0 in /Users/jpnelson/02021/sul-dlss/labs/ml-env/lib/python3.8/site-packages (from google-auth>=1.2->gcsfs>=0.7.1->kglab) (1.15.0)\n",
      "Requirement already satisfied: cachetools<5.0,>=2.0.0 in /Users/jpnelson/02021/sul-dlss/labs/ml-env/lib/python3.8/site-packages (from google-auth>=1.2->gcsfs>=0.7.1->kglab) (4.2.1)\n",
      "Collecting rsa<5,>=3.1.4\n",
      "  Using cached rsa-4.7.2-py3-none-any.whl (34 kB)\n",
      "Collecting pyasn1-modules>=0.2.1\n",
      "  Using cached pyasn1_modules-0.2.8-py2.py3-none-any.whl (155 kB)\n",
      "Collecting asttokens>=2.0.1\n",
      "  Using cached asttokens-2.0.5-py2.py3-none-any.whl (20 kB)\n",
      "Requirement already satisfied: colorama>=0.3.9 in /Users/jpnelson/02021/sul-dlss/labs/ml-env/lib/python3.8/site-packages (from icecream>=2.0->kglab) (0.4.4)\n",
      "Collecting executing>=0.3.1\n",
      "  Using cached executing-0.6.0-py2.py3-none-any.whl (12 kB)\n",
      "Requirement already satisfied: pillow>=6.2.0 in /Users/jpnelson/02021/sul-dlss/labs/ml-env/lib/python3.8/site-packages (from matplotlib>=3.3.4->kglab) (8.1.2)\n",
      "Requirement already satisfied: kiwisolver>=1.0.1 in /Users/jpnelson/02021/sul-dlss/labs/ml-env/lib/python3.8/site-packages (from matplotlib>=3.3.4->kglab) (1.3.1)\n",
      "Requirement already satisfied: pyparsing!=2.0.4,!=2.1.2,!=2.1.6,>=2.0.3 in /Users/jpnelson/02021/sul-dlss/labs/ml-env/lib/python3.8/site-packages (from matplotlib>=3.3.4->kglab) (2.4.7)\n",
      "Requirement already satisfied: cycler>=0.10 in /Users/jpnelson/02021/sul-dlss/labs/ml-env/lib/python3.8/site-packages (from matplotlib>=3.3.4->kglab) (0.10.0)\n",
      "Requirement already satisfied: pytz>=2017.3 in /Users/jpnelson/02021/sul-dlss/labs/ml-env/lib/python3.8/site-packages (from pandas>=1.1.5->kglab) (2021.1)\n",
      "Requirement already satisfied: pyyaml in /Users/jpnelson/02021/sul-dlss/labs/ml-env/lib/python3.8/site-packages (from pslpython>=2.2.2->kglab) (5.4.1)\n",
      "Collecting pyasn1<0.5.0,>=0.4.6\n",
      "  Using cached pyasn1-0.4.8-py2.py3-none-any.whl (77 kB)\n",
      "Requirement already satisfied: ipython>=5.3.0 in /Users/jpnelson/02021/sul-dlss/labs/ml-env/lib/python3.8/site-packages (from pyvis>=0.1.7.0->kglab) (7.21.0)\n",
      "Collecting jsonpickle>=1.4.1\n",
      "  Using cached jsonpickle-2.0.0-py2.py3-none-any.whl (37 kB)\n",
      "Requirement already satisfied: jinja2>=2.9.6 in /Users/jpnelson/02021/sul-dlss/labs/ml-env/lib/python3.8/site-packages (from pyvis>=0.1.7.0->kglab) (2.11.3)\n",
      "Requirement already satisfied: jedi>=0.16 in /Users/jpnelson/02021/sul-dlss/labs/ml-env/lib/python3.8/site-packages (from ipython>=5.3.0->pyvis>=0.1.7.0->kglab) (0.18.0)\n",
      "Requirement already satisfied: pickleshare in /Users/jpnelson/02021/sul-dlss/labs/ml-env/lib/python3.8/site-packages (from ipython>=5.3.0->pyvis>=0.1.7.0->kglab) (0.7.5)\n",
      "Requirement already satisfied: backcall in /Users/jpnelson/02021/sul-dlss/labs/ml-env/lib/python3.8/site-packages (from ipython>=5.3.0->pyvis>=0.1.7.0->kglab) (0.2.0)\n",
      "Requirement already satisfied: prompt-toolkit!=3.0.0,!=3.0.1,<3.1.0,>=2.0.0 in /Users/jpnelson/02021/sul-dlss/labs/ml-env/lib/python3.8/site-packages (from ipython>=5.3.0->pyvis>=0.1.7.0->kglab) (3.0.18)\n",
      "Requirement already satisfied: appnope in /Users/jpnelson/02021/sul-dlss/labs/ml-env/lib/python3.8/site-packages (from ipython>=5.3.0->pyvis>=0.1.7.0->kglab) (0.1.2)\n",
      "Requirement already satisfied: traitlets>=4.2 in /Users/jpnelson/02021/sul-dlss/labs/ml-env/lib/python3.8/site-packages (from ipython>=5.3.0->pyvis>=0.1.7.0->kglab) (5.0.5)\n",
      "Requirement already satisfied: pexpect>4.3 in /Users/jpnelson/02021/sul-dlss/labs/ml-env/lib/python3.8/site-packages (from ipython>=5.3.0->pyvis>=0.1.7.0->kglab) (4.8.0)\n",
      "Requirement already satisfied: parso<0.9.0,>=0.8.0 in /Users/jpnelson/02021/sul-dlss/labs/ml-env/lib/python3.8/site-packages (from jedi>=0.16->ipython>=5.3.0->pyvis>=0.1.7.0->kglab) (0.8.1)\n",
      "Requirement already satisfied: MarkupSafe>=0.23 in /Users/jpnelson/02021/sul-dlss/labs/ml-env/lib/python3.8/site-packages (from jinja2>=2.9.6->pyvis>=0.1.7.0->kglab) (1.1.1)\n",
      "Requirement already satisfied: ptyprocess>=0.5 in /Users/jpnelson/02021/sul-dlss/labs/ml-env/lib/python3.8/site-packages (from pexpect>4.3->ipython>=5.3.0->pyvis>=0.1.7.0->kglab) (0.7.0)\n",
      "Requirement already satisfied: wcwidth in /Users/jpnelson/02021/sul-dlss/labs/ml-env/lib/python3.8/site-packages (from prompt-toolkit!=3.0.0,!=3.0.1,<3.1.0,>=2.0.0->ipython>=5.3.0->pyvis>=0.1.7.0->kglab) (0.2.5)\n",
      "Collecting isodate\n",
      "  Using cached isodate-0.6.0-py2.py3-none-any.whl (45 kB)\n",
      "Requirement already satisfied: chardet<5,>=3.0.2 in /Users/jpnelson/02021/sul-dlss/labs/ml-env/lib/python3.8/site-packages (from requests>=2.25.1->kglab) (4.0.0)\n",
      "Requirement already satisfied: urllib3<1.27,>=1.21.1 in /Users/jpnelson/02021/sul-dlss/labs/ml-env/lib/python3.8/site-packages (from requests>=2.25.1->kglab) (1.26.4)\n",
      "Requirement already satisfied: certifi>=2017.4.17 in /Users/jpnelson/02021/sul-dlss/labs/ml-env/lib/python3.8/site-packages (from requests>=2.25.1->kglab) (2020.12.5)\n",
      "Requirement already satisfied: idna<3,>=2.5 in /Users/jpnelson/02021/sul-dlss/labs/ml-env/lib/python3.8/site-packages (from requests>=2.25.1->kglab) (2.10)\n",
      "Requirement already satisfied: joblib>=0.11 in /Users/jpnelson/02021/sul-dlss/labs/ml-env/lib/python3.8/site-packages (from scikit-learn>=0.20.2->kglab) (1.0.1)\n",
      "Requirement already satisfied: threadpoolctl>=2.0.0 in /Users/jpnelson/02021/sul-dlss/labs/ml-env/lib/python3.8/site-packages (from scikit-learn>=0.20.2->kglab) (2.1.0)\n",
      "Collecting patsy>=0.5\n",
      "  Using cached patsy-0.5.1-py2.py3-none-any.whl (231 kB)\n",
      "Requirement already satisfied: typing-extensions in /Users/jpnelson/02021/sul-dlss/labs/ml-env/lib/python3.8/site-packages (from torch>=1.8->kglab) (3.7.4.3)\n",
      "Requirement already satisfied: ipython-genutils in /Users/jpnelson/02021/sul-dlss/labs/ml-env/lib/python3.8/site-packages (from traitlets>=4.2->ipython>=5.3.0->pyvis>=0.1.7.0->kglab) (0.2.0)\n",
      "Collecting multidict<7.0,>=4.5\n",
      "  Downloading multidict-5.1.0-cp38-cp38-macosx_10_14_x86_64.whl (49 kB)\n",
      "\u001b[K     |████████████████████████████████| 49 kB 5.3 MB/s eta 0:00:01\n",
      "\u001b[?25hCollecting async-timeout<4.0,>=3.0\n",
      "  Using cached async_timeout-3.0.1-py3-none-any.whl (8.2 kB)\n",
      "Collecting yarl<2.0,>=1.0\n",
      "  Downloading yarl-1.6.3-cp38-cp38-macosx_10_14_x86_64.whl (124 kB)\n",
      "\u001b[K     |████████████████████████████████| 124 kB 4.7 MB/s eta 0:00:01\n",
      "\u001b[?25hRequirement already satisfied: attrs>=17.3.0 in /Users/jpnelson/02021/sul-dlss/labs/ml-env/lib/python3.8/site-packages (from aiohttp->gcsfs>=0.7.1->kglab) (20.3.0)\n",
      "Collecting requests-oauthlib>=0.7.0\n",
      "  Using cached requests_oauthlib-1.3.0-py2.py3-none-any.whl (23 kB)\n",
      "Collecting oauthlib>=3.0.0\n",
      "  Using cached oauthlib-3.1.0-py2.py3-none-any.whl (147 kB)\n",
      "Collecting aiobotocore>=1.0.1\n",
      "  Using cached aiobotocore-1.3.0.tar.gz (48 kB)\n",
      "Collecting botocore<1.20.50,>=1.20.49\n",
      "  Using cached botocore-1.20.49-py2.py3-none-any.whl (7.4 MB)\n",
      "Collecting wrapt>=1.10.10\n",
      "  Using cached wrapt-1.12.1.tar.gz (27 kB)\n",
      "Collecting aioitertools>=0.5.1\n",
      "  Using cached aioitertools-0.7.1-py3-none-any.whl (20 kB)\n",
      "Collecting jmespath<1.0.0,>=0.7.1\n",
      "  Using cached jmespath-0.10.0-py2.py3-none-any.whl (24 kB)\n",
      "Building wheels for collected packages: urlpath, aiobotocore, wrapt\n",
      "  Building wheel for urlpath (setup.py) ... \u001b[?25ldone\n",
      "\u001b[?25h  Created wheel for urlpath: filename=urlpath-1.1.7-py3-none-any.whl size=8276 sha256=ecac43e1a4c20f5b0483c3cd5861cc6d0ac0ef85e9e74ecda1ce88e427f3dbbf\n",
      "  Stored in directory: /Users/jpnelson/Library/Caches/pip/wheels/47/af/22/c22796c78aceff27003b703a92ce4d7c0161957853323bbc79\n",
      "  Building wheel for aiobotocore (setup.py) ... \u001b[?25ldone\n",
      "\u001b[?25h  Created wheel for aiobotocore: filename=aiobotocore-1.3.0-py3-none-any.whl size=45779 sha256=fe464bdbb9ed64fd486e355b860e7fe8543c5e96f813eeab674e0f746a286a44\n",
      "  Stored in directory: /Users/jpnelson/Library/Caches/pip/wheels/f3/c8/af/bc69105edc81462cf4bca30d72a792a173f80522042defc6a1\n",
      "  Building wheel for wrapt (setup.py) ... \u001b[?25ldone\n",
      "\u001b[?25h  Created wheel for wrapt: filename=wrapt-1.12.1-cp38-cp38-macosx_10_9_x86_64.whl size=32779 sha256=bc11523485aaa341be26d6452e44872ab9b4abab7a5b1cea8edcabed509fe734\n",
      "  Stored in directory: /Users/jpnelson/Library/Caches/pip/wheels/5f/fd/9e/b6cf5890494cb8ef0b5eaff72e5d55a70fb56316007d6dfe73\n",
      "Successfully built urlpath aiobotocore wrapt\n",
      "Installing collected packages: pyasn1, multidict, yarl, rsa, pyasn1-modules, oauthlib, jmespath, isodate, async-timeout, wrapt, requests-oauthlib, rdflib, google-auth, botocore, aioitertools, aiohttp, rdflib-jsonld, google-auth-oauthlib, fsspec, aiobotocore, uritemplate, s3fs, patsy, owlrl, networkx, language-tags, jsonpickle, gcsfs, executing, asttokens, urlpath, statsmodels, pyvis, pyshacl, pynvml, pylev, pslpython, icecream, csvwlib, chocolate, kglab\n",
      "Successfully installed aiobotocore-1.3.0 aiohttp-3.7.4.post0 aioitertools-0.7.1 asttokens-2.0.5 async-timeout-3.0.1 botocore-1.20.49 chocolate-0.0.2 csvwlib-0.3.2 executing-0.6.0 fsspec-2021.5.0 gcsfs-2021.5.0 google-auth-1.30.0 google-auth-oauthlib-0.4.4 icecream-2.1.0 isodate-0.6.0 jmespath-0.10.0 jsonpickle-2.0.0 kglab-0.4.0 language-tags-1.1.0 multidict-5.1.0 networkx-2.5.1 oauthlib-3.1.0 owlrl-5.2.1 patsy-0.5.1 pslpython-2.2.2 pyasn1-0.4.8 pyasn1-modules-0.2.8 pylev-1.3.0 pynvml-8.0.4 pyshacl-0.14.3 pyvis-0.1.9 rdflib-5.0.0 rdflib-jsonld-0.5.0 requests-oauthlib-1.3.0 rsa-4.7.2 s3fs-2021.5.0 statsmodels-0.12.2 uritemplate-3.0.1 urlpath-1.1.7 wrapt-1.12.1 yarl-1.6.3\n"
     ]
    }
   ],
   "source": [
    "! pip install kglab"
   ]
  },
  {
   "cell_type": "code",
   "execution_count": 1,
   "metadata": {},
   "outputs": [],
   "source": [
    "import json\n",
    "from datetime import datetime\n",
    "from typing import Dict, List, Optional\n",
    "\n",
    "import pandas as pd\n",
    "\n",
    "import kglab\n",
    "import rdflib\n",
    "import requests"
   ]
  },
  {
   "cell_type": "markdown",
   "metadata": {},
   "source": [
    "Defines Sinopia-specific namespaces in a dictionary and create a SINOPIA rdflib.Namespace used in each resource's graph. "
   ]
  },
  {
   "cell_type": "code",
   "execution_count": 2,
   "metadata": {},
   "outputs": [],
   "source": [
    "namespaces = {\n",
    "    \"bf\": \"http://id.loc.gov/ontologies/bibframe/\",\n",
    "    \"bflc\": \"http://id.loc.gov/ontologies/bflc/\",\n",
    "    \"mads\": \"http://www.loc.gov/mads/rdf/v1#\",\n",
    "    \"skos\": \"http://www.w3.org/2004/02/skos/core#\",\n",
    "    \"sinopia\": \"http://sinopia.io/vocabulary/\"\n",
    "}\n",
    "\n",
    "SINOPIA = rdflib.Namespace(\"http://sinopia.io/vocabulary/\")"
   ]
  },
  {
   "cell_type": "markdown",
   "metadata": {},
   "source": [
    "**TODO:** These functions need to be moved to a local Python module for use in other notebooks. "
   ]
  },
  {
   "cell_type": "code",
   "execution_count": 3,
   "metadata": {},
   "outputs": [],
   "source": [
    "def from_api(api_url: str) -> Dict:\n",
    "    \"\"\"Takes a Sinopia API endpoint URI, extracts each resource and\n",
    "    template, and returns a dictionary with two lists, a resources and a\n",
    "    templates, and the total number of resources harvested from the api.\n",
    "\n",
    "    @param api_url -- URI to Sinopia API endpoint\n",
    "    @param group -- optional Group name\n",
    "    \"\"\"\n",
    "\n",
    "    def add_resource(resource):\n",
    "        if not 'data' in resource:\n",
    "            print(f\"\\n{resource.get('uri')} missing data\")\n",
    "            return\n",
    "        output[\"total\"] += 1\n",
    "        graph = rdflib.Graph()\n",
    "        for key, url in namespaces.items():\n",
    "            graph.namespace_manager.bind(key, url)\n",
    "        jsonld = json.dumps(resource.pop(\"data\")).encode()\n",
    "        try:\n",
    "            graph.parse(data=jsonld, format=\"json-ld\")\n",
    "        except Exception as error:\n",
    "            print(f\"Failed to parse {resource}\\n{error}\")\n",
    "            return\n",
    "        payload = {\"graph\": graph, \"meta\": resource}\n",
    "        if \"sinopia:template:resource\" in resource.get(\"templateId\"):\n",
    "            output[\"templates\"].append(payload)\n",
    "        else:\n",
    "            output[\"resources\"].append(payload)\n",
    "\n",
    "    output = {\"resources\": [], \"templates\": [], \"total\": 0}\n",
    "    start = datetime.utcnow()\n",
    "    print(f\"Started harvest of resources at {start} for {api_url}\")\n",
    "    initial = requests.get(f\"{api_url}\")\n",
    "    print(\"0\", end=\"\")\n",
    "    for row in initial.json().get(\"data\"):\n",
    "        add_resource(row)\n",
    "    next_link = initial.json().get(\"links\").get(\"next\")\n",
    "    while 1:\n",
    "        result = requests.get(next_link)\n",
    "        if result.status_code > 300:\n",
    "            break\n",
    "        payload = result.json()\n",
    "        new_next = payload.get(\"links\").get(\"next\")\n",
    "        if new_next is None:\n",
    "            new_text = payload.get(\"links\").get(\"first\")\n",
    "        if new_next == next_link or new_next is None:\n",
    "            break\n",
    "        for row in payload.get(\"data\"):\n",
    "            add_resource(row)\n",
    "        next_link = new_next\n",
    "        print(\".\", end=\"\")\n",
    "        if not output[\"total\"] % 250:\n",
    "            print(f\"{output['total']}\", end=\"\")\n",
    "    end = datetime.utcnow()\n",
    "    print(f\"\\nFinished total time {(end-start).seconds / 60.}\")\n",
    "    return output"
   ]
  },
  {
   "cell_type": "code",
   "execution_count": 4,
   "metadata": {},
   "outputs": [
    {
     "data": {
      "text/plain": [
       "\u001b[0;31mSignature:\u001b[0m \u001b[0mfrom_api\u001b[0m\u001b[0;34m(\u001b[0m\u001b[0mapi_url\u001b[0m\u001b[0;34m:\u001b[0m \u001b[0mstr\u001b[0m\u001b[0;34m)\u001b[0m \u001b[0;34m->\u001b[0m \u001b[0mDict\u001b[0m\u001b[0;34m\u001b[0m\u001b[0;34m\u001b[0m\u001b[0m\n",
       "\u001b[0;31mDocstring:\u001b[0m\n",
       "Takes a Sinopia API endpoint URI, extracts each resource and\n",
       "template, and returns a dictionary with two lists, a resources and a\n",
       "templates, and the total number of resources harvested from the api.\n",
       "\n",
       "@param api_url -- URI to Sinopia API endpoint\n",
       "@param group -- optional Group name\n",
       "\u001b[0;31mFile:\u001b[0m      /var/folders/zd/nj5fbhqn72qgg80cstzbsjl80000gq/T/ipykernel_12060/594893128.py\n",
       "\u001b[0;31mType:\u001b[0m      function\n"
      ]
     },
     "metadata": {},
     "output_type": "display_data"
    }
   ],
   "source": [
    "from_api?"
   ]
  },
  {
   "cell_type": "code",
   "execution_count": 5,
   "metadata": {
    "tags": []
   },
   "outputs": [
    {
     "name": "stdout",
     "output_type": "stream",
     "text": [
      "Started harvest of resources at 2021-10-11 22:25:48.678744 for https://api.stage.sinopia.io/resource\n",
      "0.........250....."
     ]
    },
    {
     "name": "stderr",
     "output_type": "stream",
     "text": [
      "https://api.stage.sinopia.io/resource/this is a test does not look like a valid URI, trying to serialize this will break.\n"
     ]
    },
    {
     "name": "stdout",
     "output_type": "stream",
     "text": [
      ".....500........."
     ]
    },
    {
     "name": "stderr",
     "output_type": "stream",
     "text": [
      "ld4p:RT:bf2:2D graphic material:Item does not look like a valid URI, trying to serialize this will break.\n"
     ]
    },
    {
     "name": "stdout",
     "output_type": "stream",
     "text": [
      ".750..........1000...."
     ]
    },
    {
     "name": "stderr",
     "output_type": "stream",
     "text": [
      "https://api.stage.sinopia.io/resource/this test does not look like a valid URI, trying to serialize this will break.\n"
     ]
    },
    {
     "name": "stdout",
     "output_type": "stream",
     "text": [
      "......1250........\n",
      "None missing data\n",
      "."
     ]
    },
    {
     "name": "stderr",
     "output_type": "stream",
     "text": [
      "https://api.stage.sinopia.io/resource/my fav template does not look like a valid URI, trying to serialize this will break.\n"
     ]
    },
    {
     "name": "stdout",
     "output_type": "stream",
     "text": [
      ".\n",
      "Finished total time 0.65\n"
     ]
    }
   ],
   "source": [
    "stage_rdf = from_api(\"https://api.stage.sinopia.io/resource\")"
   ]
  },
  {
   "cell_type": "code",
   "execution_count": 8,
   "metadata": {},
   "outputs": [
    {
     "data": {
      "text/plain": [
       "\u001b[0;31mInit signature:\u001b[0m\n",
       "\u001b[0mkglab\u001b[0m\u001b[0;34m.\u001b[0m\u001b[0mKnowledgeGraph\u001b[0m\u001b[0;34m(\u001b[0m\u001b[0;34m\u001b[0m\n",
       "\u001b[0;34m\u001b[0m    \u001b[0;34m*\u001b[0m\u001b[0;34m,\u001b[0m\u001b[0;34m\u001b[0m\n",
       "\u001b[0;34m\u001b[0m    \u001b[0mname\u001b[0m\u001b[0;34m:\u001b[0m \u001b[0mstr\u001b[0m \u001b[0;34m=\u001b[0m \u001b[0;34m'generic'\u001b[0m\u001b[0;34m,\u001b[0m\u001b[0;34m\u001b[0m\n",
       "\u001b[0;34m\u001b[0m    \u001b[0mbase_uri\u001b[0m\u001b[0;34m:\u001b[0m \u001b[0mstr\u001b[0m \u001b[0;34m=\u001b[0m \u001b[0;32mNone\u001b[0m\u001b[0;34m,\u001b[0m\u001b[0;34m\u001b[0m\n",
       "\u001b[0;34m\u001b[0m    \u001b[0mlanguage\u001b[0m\u001b[0;34m:\u001b[0m \u001b[0mstr\u001b[0m \u001b[0;34m=\u001b[0m \u001b[0;34m'en'\u001b[0m\u001b[0;34m,\u001b[0m\u001b[0;34m\u001b[0m\n",
       "\u001b[0;34m\u001b[0m    \u001b[0muse_gpus\u001b[0m\u001b[0;34m:\u001b[0m \u001b[0mbool\u001b[0m \u001b[0;34m=\u001b[0m \u001b[0;32mTrue\u001b[0m\u001b[0;34m,\u001b[0m\u001b[0;34m\u001b[0m\n",
       "\u001b[0;34m\u001b[0m    \u001b[0mimport_graph\u001b[0m\u001b[0;34m:\u001b[0m \u001b[0mUnion\u001b[0m\u001b[0;34m[\u001b[0m\u001b[0mrdflib\u001b[0m\u001b[0;34m.\u001b[0m\u001b[0mgraph\u001b[0m\u001b[0;34m.\u001b[0m\u001b[0mConjunctiveGraph\u001b[0m\u001b[0;34m,\u001b[0m \u001b[0mrdflib\u001b[0m\u001b[0;34m.\u001b[0m\u001b[0mgraph\u001b[0m\u001b[0;34m.\u001b[0m\u001b[0mDataset\u001b[0m\u001b[0;34m,\u001b[0m \u001b[0mrdflib\u001b[0m\u001b[0;34m.\u001b[0m\u001b[0mgraph\u001b[0m\u001b[0;34m.\u001b[0m\u001b[0mGraph\u001b[0m\u001b[0;34m,\u001b[0m \u001b[0mNoneType\u001b[0m\u001b[0;34m]\u001b[0m \u001b[0;34m=\u001b[0m \u001b[0;32mNone\u001b[0m\u001b[0;34m,\u001b[0m\u001b[0;34m\u001b[0m\n",
       "\u001b[0;34m\u001b[0m    \u001b[0mnamespaces\u001b[0m\u001b[0;34m:\u001b[0m \u001b[0mdict\u001b[0m \u001b[0;34m=\u001b[0m \u001b[0;32mNone\u001b[0m\u001b[0;34m,\u001b[0m\u001b[0;34m\u001b[0m\n",
       "\u001b[0;34m\u001b[0m\u001b[0;34m)\u001b[0m \u001b[0;34m->\u001b[0m \u001b[0;32mNone\u001b[0m\u001b[0;34m\u001b[0m\u001b[0;34m\u001b[0m\u001b[0m\n",
       "\u001b[0;31mDocstring:\u001b[0m     \n",
       "This is the primary class used to represent RDF graphs, on which the other classes are dependent.\n",
       "See <https://derwen.ai/docs/kgl/concepts/#knowledge-graph>\n",
       "\n",
       "Core feature areas include:\n",
       "\n",
       "  * namespace management (ontology, controlled vocabularies)\n",
       "  * graph construction\n",
       "  * serialization\n",
       "  * SPARQL querying\n",
       "  * SHACL validation\n",
       "  * inference based on OWL-RL, RDFS, SKOS\n",
       "    \n",
       "\u001b[0;31mInit docstring:\u001b[0m\n",
       "Constructor for a `KnowledgeGraph` object.\n",
       "\n",
       "    name:\n",
       "optional, internal name for this graph\n",
       "\n",
       "    base_uri:\n",
       "the default [*base URI*](https://tools.ietf.org/html/rfc3986#section-5.1) for this RDF graph\n",
       "\n",
       "    language:\n",
       "the default [*language tag*](https://www.w3.org/TR/rdf11-concepts/#dfn-language-tag), e.g., used for [*language indexing*](https://www.w3.org/TR/json-ld11/#language-indexing)\n",
       "\n",
       "    use_gpus:\n",
       "optionally, use the NVidia GPU devices with [RAPIDS](https://rapids.ai/) if these libraries have been installed and the devices are available; defaults to `True`\n",
       "\n",
       "    import_graph:\n",
       "optionally, another existing RDF graph to be used as a starting point\n",
       "\n",
       "    namespaces:\n",
       "a dictionary of [*namespace*](https://rdflib.readthedocs.io/en/stable/apidocs/rdflib.html?highlight=namespace#rdflib.Namespace) (dict values) and their corresponding *prefix* strings (dict keys) to add as *controlled vocabularies* which are available for use in the RDF graph, binding each prefix to the given namespace\n",
       "        \n",
       "\u001b[0;31mFile:\u001b[0m           ~/02021/sul-dlss/labs/ml-env/lib/python3.8/site-packages/kglab/kglab.py\n",
       "\u001b[0;31mType:\u001b[0m           type\n",
       "\u001b[0;31mSubclasses:\u001b[0m     \n"
      ]
     },
     "metadata": {},
     "output_type": "display_data"
    }
   ],
   "source": [
    "kglab.KnowledgeGraph?"
   ]
  },
  {
   "cell_type": "markdown",
   "metadata": {},
   "source": [
    "## Creating a Knowledge Graph\n",
    "Here we iterate through the Stage resources, retrieve the RDF graph, and then we create an instance of the kglab\n",
    "Knowledge Graph."
   ]
  },
  {
   "cell_type": "code",
   "execution_count": 10,
   "metadata": {},
   "outputs": [],
   "source": [
    "stage = rdflib.ConjunctiveGraph()\n",
    "for row in stage_rdf['resources']:\n",
    "    stage += row.get('graph')\n",
    "\n",
    "    \n",
    "kg = kglab.KnowledgeGraph(\n",
    "    name = \"Sinopia Stage KG\",\n",
    "    base_uri = \"https://api.stage.sinopia.io/resource/\",\n",
    "    namespaces = namespaces,\n",
    "    import_graph=stage\n",
    ")"
   ]
  },
  {
   "cell_type": "markdown",
   "metadata": {},
   "source": [
    "### Graph Measuresments"
   ]
  },
  {
   "cell_type": "code",
   "execution_count": 19,
   "metadata": {},
   "outputs": [],
   "source": [
    "measure = kglab.Measure()"
   ]
  },
  {
   "cell_type": "code",
   "execution_count": 13,
   "metadata": {},
   "outputs": [
    {
     "name": "stdout",
     "output_type": "stream",
     "text": [
      "edges: 629,278\n",
      "\n",
      "nodes: 67,794\n",
      "\n"
     ]
    }
   ],
   "source": [
    "measure.measure_graph(kg)\n",
    "print(\"edges: {:,}\\n\".format(measure.get_edge_count()))\n",
    "print(\"nodes: {:,}\\n\".format(measure.get_node_count()))"
   ]
  },
  {
   "cell_type": "markdown",
   "metadata": {},
   "source": [
    "## SPARQL Query as a Pandas Data\n",
    "One of the exciting capabilities of our new Stage Knowledge graph is that we can query our Stage datastore with SPARQL and runturn the result as a [Pandas](https://pandas.pydata.org/) dataframe. The dataframe can now be fead into a [FastAI](), [Pytorch](), or [Tensorflow]() models for further analysis. "
   ]
  },
  {
   "cell_type": "code",
   "execution_count": 22,
   "metadata": {},
   "outputs": [],
   "source": [
    "all_triples_query = \"\"\"\n",
    "SELECT ?subject ?predicate ?object \n",
    "WHERE {\n",
    "  ?subject ?predicate ?object .\n",
    "}\"\"\""
   ]
  },
  {
   "cell_type": "code",
   "execution_count": 23,
   "metadata": {},
   "outputs": [],
   "source": [
    "df = kg.query_as_df(all_triples_query)"
   ]
  },
  {
   "cell_type": "code",
   "execution_count": null,
   "metadata": {},
   "outputs": [],
   "source": [
    "With each triple in our "
   ]
  },
  {
   "cell_type": "code",
   "execution_count": 24,
   "metadata": {},
   "outputs": [
    {
     "name": "stdout",
     "output_type": "stream",
     "text": [
      "<class 'pandas.core.frame.DataFrame'>\n",
      "RangeIndex: 314639 entries, 0 to 314638\n",
      "Data columns (total 3 columns):\n",
      " #   Column     Non-Null Count   Dtype \n",
      "---  ------     --------------   ----- \n",
      " 0   subject    314639 non-null  object\n",
      " 1   predicate  314639 non-null  object\n",
      " 2   object     314639 non-null  object\n",
      "dtypes: object(3)\n",
      "memory usage: 7.2+ MB\n"
     ]
    }
   ],
   "source": [
    "df.info()"
   ]
  },
  {
   "cell_type": "code",
   "execution_count": 25,
   "metadata": {},
   "outputs": [
    {
     "data": {
      "text/html": [
       "<div>\n",
       "<style scoped>\n",
       "    .dataframe tbody tr th:only-of-type {\n",
       "        vertical-align: middle;\n",
       "    }\n",
       "\n",
       "    .dataframe tbody tr th {\n",
       "        vertical-align: top;\n",
       "    }\n",
       "\n",
       "    .dataframe thead th {\n",
       "        text-align: right;\n",
       "    }\n",
       "</style>\n",
       "<table border=\"1\" class=\"dataframe\">\n",
       "  <thead>\n",
       "    <tr style=\"text-align: right;\">\n",
       "      <th></th>\n",
       "      <th>subject</th>\n",
       "      <th>predicate</th>\n",
       "      <th>object</th>\n",
       "    </tr>\n",
       "  </thead>\n",
       "  <tbody>\n",
       "    <tr>\n",
       "      <th>0</th>\n",
       "      <td>_:Nf369836ee2334c118a2adccfe5c6ba7b</td>\n",
       "      <td>rdf:type</td>\n",
       "      <td>bf:Title</td>\n",
       "    </tr>\n",
       "    <tr>\n",
       "      <th>1</th>\n",
       "      <td>_:Nf5b660a442b24fd88e534e4698b045d6</td>\n",
       "      <td>owl:sameAs</td>\n",
       "      <td>&lt;https://id.loc.gov/vocabulary/languages/eng&gt;</td>\n",
       "    </tr>\n",
       "    <tr>\n",
       "      <th>2</th>\n",
       "      <td>_:b1</td>\n",
       "      <td>bf:Agent</td>\n",
       "      <td>&lt;http://id.loc.gov/authorities/names/n96089174&gt;</td>\n",
       "    </tr>\n",
       "    <tr>\n",
       "      <th>3</th>\n",
       "      <td>_:N0dc076eacd4b4b7c99cea63fc1f7821c</td>\n",
       "      <td>bf:code</td>\n",
       "      <td>n</td>\n",
       "    </tr>\n",
       "    <tr>\n",
       "      <th>4</th>\n",
       "      <td>_:Nfec989756ae2489eb7f6862c247d2c43</td>\n",
       "      <td>&lt;http://id.loc.gov/ontologies/bflc/encodingLevel&gt;</td>\n",
       "      <td>&lt;https://id.loc.gov/vocabulary/menclvl/f&gt;</td>\n",
       "    </tr>\n",
       "  </tbody>\n",
       "</table>\n",
       "</div>"
      ],
      "text/plain": [
       "                               subject  \\\n",
       "0  _:Nf369836ee2334c118a2adccfe5c6ba7b   \n",
       "1  _:Nf5b660a442b24fd88e534e4698b045d6   \n",
       "2                                 _:b1   \n",
       "3  _:N0dc076eacd4b4b7c99cea63fc1f7821c   \n",
       "4  _:Nfec989756ae2489eb7f6862c247d2c43   \n",
       "\n",
       "                                           predicate  \\\n",
       "0                                           rdf:type   \n",
       "1                                         owl:sameAs   \n",
       "2                                           bf:Agent   \n",
       "3                                            bf:code   \n",
       "4  <http://id.loc.gov/ontologies/bflc/encodingLevel>   \n",
       "\n",
       "                                            object  \n",
       "0                                         bf:Title  \n",
       "1    <https://id.loc.gov/vocabulary/languages/eng>  \n",
       "2  <http://id.loc.gov/authorities/names/n96089174>  \n",
       "3                                                n  \n",
       "4        <https://id.loc.gov/vocabulary/menclvl/f>  "
      ]
     },
     "execution_count": 25,
     "metadata": {},
     "output_type": "execute_result"
    }
   ],
   "source": [
    "df.head()"
   ]
  },
  {
   "cell_type": "code",
   "execution_count": 27,
   "metadata": {},
   "outputs": [
    {
     "data": {
      "text/html": [
       "<div>\n",
       "<style scoped>\n",
       "    .dataframe tbody tr th:only-of-type {\n",
       "        vertical-align: middle;\n",
       "    }\n",
       "\n",
       "    .dataframe tbody tr th {\n",
       "        vertical-align: top;\n",
       "    }\n",
       "\n",
       "    .dataframe thead th {\n",
       "        text-align: right;\n",
       "    }\n",
       "</style>\n",
       "<table border=\"1\" class=\"dataframe\">\n",
       "  <thead>\n",
       "    <tr style=\"text-align: right;\">\n",
       "      <th></th>\n",
       "      <th>subject</th>\n",
       "      <th>predicate</th>\n",
       "      <th>object</th>\n",
       "    </tr>\n",
       "  </thead>\n",
       "  <tbody>\n",
       "    <tr>\n",
       "      <th>314634</th>\n",
       "      <td>_:N2d11c7095c9648158f8bef53a28ccf71</td>\n",
       "      <td>rdfs:label</td>\n",
       "      <td>Bayless Books</td>\n",
       "    </tr>\n",
       "    <tr>\n",
       "      <th>314635</th>\n",
       "      <td>&lt;https://api.stage.sinopia.io/resource/ac2a379...</td>\n",
       "      <td>bf:contribution</td>\n",
       "      <td>_:b0</td>\n",
       "    </tr>\n",
       "    <tr>\n",
       "      <th>314636</th>\n",
       "      <td>_:N5ea15b82eec6415aa35e687c27da1d68</td>\n",
       "      <td>owl:sameAs</td>\n",
       "      <td>&lt;http://viaf.org/viaf/174954981&gt;</td>\n",
       "    </tr>\n",
       "    <tr>\n",
       "      <th>314637</th>\n",
       "      <td>_:Nbd85229aabec4e22b1276c1f3d33b3a0</td>\n",
       "      <td>rdf:type</td>\n",
       "      <td>bf:Status</td>\n",
       "    </tr>\n",
       "    <tr>\n",
       "      <th>314638</th>\n",
       "      <td>_:N58c81ba54d414f7e8b0130222c7eaf33</td>\n",
       "      <td>rdfs:label</td>\n",
       "      <td>rml.py SNAPSHOT: 2021-04-14T14:08:43+00:00</td>\n",
       "    </tr>\n",
       "  </tbody>\n",
       "</table>\n",
       "</div>"
      ],
      "text/plain": [
       "                                                  subject        predicate  \\\n",
       "314634                _:N2d11c7095c9648158f8bef53a28ccf71       rdfs:label   \n",
       "314635  <https://api.stage.sinopia.io/resource/ac2a379...  bf:contribution   \n",
       "314636                _:N5ea15b82eec6415aa35e687c27da1d68       owl:sameAs   \n",
       "314637                _:Nbd85229aabec4e22b1276c1f3d33b3a0         rdf:type   \n",
       "314638                _:N58c81ba54d414f7e8b0130222c7eaf33       rdfs:label   \n",
       "\n",
       "                                            object  \n",
       "314634                               Bayless Books  \n",
       "314635                                        _:b0  \n",
       "314636            <http://viaf.org/viaf/174954981>  \n",
       "314637                                   bf:Status  \n",
       "314638  rml.py SNAPSHOT: 2021-04-14T14:08:43+00:00  "
      ]
     },
     "execution_count": 27,
     "metadata": {},
     "output_type": "execute_result"
    }
   ],
   "source": [
    "df.tail()"
   ]
  },
  {
   "cell_type": "code",
   "execution_count": 26,
   "metadata": {},
   "outputs": [
    {
     "data": {
      "text/html": [
       "<div>\n",
       "<style scoped>\n",
       "    .dataframe tbody tr th:only-of-type {\n",
       "        vertical-align: middle;\n",
       "    }\n",
       "\n",
       "    .dataframe tbody tr th {\n",
       "        vertical-align: top;\n",
       "    }\n",
       "\n",
       "    .dataframe thead th {\n",
       "        text-align: right;\n",
       "    }\n",
       "</style>\n",
       "<table border=\"1\" class=\"dataframe\">\n",
       "  <thead>\n",
       "    <tr style=\"text-align: right;\">\n",
       "      <th></th>\n",
       "      <th>subject</th>\n",
       "      <th>predicate</th>\n",
       "      <th>object</th>\n",
       "    </tr>\n",
       "  </thead>\n",
       "  <tbody>\n",
       "    <tr>\n",
       "      <th>39321</th>\n",
       "      <td>&lt;https://api.stage.sinopia.io/resource/549669f...</td>\n",
       "      <td>bf:identifiedBy</td>\n",
       "      <td>_:b0</td>\n",
       "    </tr>\n",
       "    <tr>\n",
       "      <th>13344</th>\n",
       "      <td>_:N9a77e3270d23482d8213a8604dbefc37</td>\n",
       "      <td>&lt;http://www.loc.gov/mads/rdf/v1#authoritativeL...</td>\n",
       "      <td>New England--Juvenile fiction</td>\n",
       "    </tr>\n",
       "    <tr>\n",
       "      <th>304142</th>\n",
       "      <td>_:Nb82c376bca76435a81ae33fde34d6574</td>\n",
       "      <td>&lt;http://id.loc.gov/ontologies/bflc/encodingLevel&gt;</td>\n",
       "      <td>&lt;https://id.loc.gov/vocabulary/menclvl/f&gt;</td>\n",
       "    </tr>\n",
       "    <tr>\n",
       "      <th>6843</th>\n",
       "      <td>&lt;https://api.stage.sinopia.io/resource/b30338e...</td>\n",
       "      <td>bf:carrier</td>\n",
       "      <td>_:N9c9f1818deff4b2cb0c40a3c032ac2a0</td>\n",
       "    </tr>\n",
       "    <tr>\n",
       "      <th>92804</th>\n",
       "      <td>_:b148</td>\n",
       "      <td>&lt;http://id.loc.gov/ontologies/bflc/relation&gt;</td>\n",
       "      <td>_:b149</td>\n",
       "    </tr>\n",
       "    <tr>\n",
       "      <th>54300</th>\n",
       "      <td>_:Nd01a6202d40e4154bafdc4c798a3f3f4</td>\n",
       "      <td>owl:sameAs</td>\n",
       "      <td>&lt;https://id.loc.gov/vocabulary/languages/eng&gt;</td>\n",
       "    </tr>\n",
       "    <tr>\n",
       "      <th>267979</th>\n",
       "      <td>_:b31</td>\n",
       "      <td>rdf:type</td>\n",
       "      <td>bf:ShelfMarkLcc</td>\n",
       "    </tr>\n",
       "    <tr>\n",
       "      <th>298605</th>\n",
       "      <td>_:Na4aa3d34cb8d4aa5b1ca9ac1a80d0711</td>\n",
       "      <td>owl:sameAs</td>\n",
       "      <td>&lt;http://id.loc.gov/authorities/names/no2011121...</td>\n",
       "    </tr>\n",
       "    <tr>\n",
       "      <th>210377</th>\n",
       "      <td>&lt;https://api.stage.sinopia.io/resource/b1e12ed...</td>\n",
       "      <td>bf:heldBy</td>\n",
       "      <td>&lt;http://id.loc.gov/vocabulary/organizations/cst&gt;</td>\n",
       "    </tr>\n",
       "    <tr>\n",
       "      <th>120149</th>\n",
       "      <td>_:Nbcf26e1ea76a4ed68d32d5100a2ab2ae</td>\n",
       "      <td>rdf:type</td>\n",
       "      <td>bf:GenerationProcess</td>\n",
       "    </tr>\n",
       "  </tbody>\n",
       "</table>\n",
       "</div>"
      ],
      "text/plain": [
       "                                                  subject  \\\n",
       "39321   <https://api.stage.sinopia.io/resource/549669f...   \n",
       "13344                 _:N9a77e3270d23482d8213a8604dbefc37   \n",
       "304142                _:Nb82c376bca76435a81ae33fde34d6574   \n",
       "6843    <https://api.stage.sinopia.io/resource/b30338e...   \n",
       "92804                                              _:b148   \n",
       "54300                 _:Nd01a6202d40e4154bafdc4c798a3f3f4   \n",
       "267979                                              _:b31   \n",
       "298605                _:Na4aa3d34cb8d4aa5b1ca9ac1a80d0711   \n",
       "210377  <https://api.stage.sinopia.io/resource/b1e12ed...   \n",
       "120149                _:Nbcf26e1ea76a4ed68d32d5100a2ab2ae   \n",
       "\n",
       "                                                predicate  \\\n",
       "39321                                     bf:identifiedBy   \n",
       "13344   <http://www.loc.gov/mads/rdf/v1#authoritativeL...   \n",
       "304142  <http://id.loc.gov/ontologies/bflc/encodingLevel>   \n",
       "6843                                           bf:carrier   \n",
       "92804        <http://id.loc.gov/ontologies/bflc/relation>   \n",
       "54300                                          owl:sameAs   \n",
       "267979                                           rdf:type   \n",
       "298605                                         owl:sameAs   \n",
       "210377                                          bf:heldBy   \n",
       "120149                                           rdf:type   \n",
       "\n",
       "                                                   object  \n",
       "39321                                                _:b0  \n",
       "13344                       New England--Juvenile fiction  \n",
       "304142          <https://id.loc.gov/vocabulary/menclvl/f>  \n",
       "6843                  _:N9c9f1818deff4b2cb0c40a3c032ac2a0  \n",
       "92804                                              _:b149  \n",
       "54300       <https://id.loc.gov/vocabulary/languages/eng>  \n",
       "267979                                    bf:ShelfMarkLcc  \n",
       "298605  <http://id.loc.gov/authorities/names/no2011121...  \n",
       "210377   <http://id.loc.gov/vocabulary/organizations/cst>  \n",
       "120149                               bf:GenerationProcess  "
      ]
     },
     "execution_count": 26,
     "metadata": {},
     "output_type": "execute_result"
    }
   ],
   "source": [
    "df.sample(10)"
   ]
  },
  {
   "cell_type": "markdown",
   "metadata": {},
   "source": [
    "## Visualizations\n"
   ]
  },
  {
   "cell_type": "code",
   "execution_count": null,
   "metadata": {
    "tags": []
   },
   "outputs": [],
   "source": [
    "subgraph = kglab.SubgraphTensor(kg)\n",
    "pyvis_graph = subgraph.build_pyvis_graph(notebook=True)\n",
    "pyvis_graph.force_atlas_2based()\n",
    "pyvis_graph.show(\"tmp.fig03.html\")"
   ]
  },
  {
   "cell_type": "code",
   "execution_count": 39,
   "metadata": {},
   "outputs": [],
   "source": [
    "second_kg = kglab.KnowledgeGraph(\n",
    "    name = \"Sinopia Stage Second KG\",\n",
    "    base_uri = \"https://api.stage.sinopia.io/resource/\",\n",
    "    namespaces = namespaces,\n",
    "    import_graph=dev_rdf['resources'][1]['graph']\n",
    ")"
   ]
  },
  {
   "cell_type": "code",
   "execution_count": 40,
   "metadata": {
    "tags": []
   },
   "outputs": [
    {
     "data": {
      "text/html": [
       "\n",
       "        <iframe\n",
       "            width=\"500px\"\n",
       "            height=\"500px\"\n",
       "            src=\"tmp.fig03.html\"\n",
       "            frameborder=\"0\"\n",
       "            allowfullscreen\n",
       "        ></iframe>\n",
       "        "
      ],
      "text/plain": [
       "<IPython.lib.display.IFrame at 0x7fb9b6dc9850>"
      ]
     },
     "execution_count": 40,
     "metadata": {},
     "output_type": "execute_result"
    }
   ],
   "source": [
    "subgraph = kglab.SubgraphTensor(second_kg)\n",
    "pyvis_graph = subgraph.build_pyvis_graph(notebook=True)\n",
    "pyvis_graph.force_atlas_2based()\n",
    "pyvis_graph.show(\"tmp.fig03.html\")"
   ]
  },
  {
   "cell_type": "markdown",
   "metadata": {},
   "source": [
    "## Stanford Knowledge Base\n"
   ]
  },
  {
   "cell_type": "code",
   "execution_count": 5,
   "metadata": {},
   "outputs": [],
   "source": [
    "stanford_url = \"https://api.stage.sinopia.io/resource?group=stanford\""
   ]
  },
  {
   "cell_type": "code",
   "execution_count": 24,
   "metadata": {},
   "outputs": [
    {
     "name": "stdout",
     "output_type": "stream",
     "text": [
      "Started harvest of resources at 2021-05-27 16:56:10.941766 for https://api.stage.sinopia.io/resource?group=stanford\n",
      "0.........250..........500......\n",
      "Finished total time 0.2833333333333333\n"
     ]
    }
   ],
   "source": [
    "stanford_rdf = from_api(stanford_url)"
   ]
  },
  {
   "cell_type": "code",
   "execution_count": 25,
   "metadata": {},
   "outputs": [
    {
     "data": {
      "text/plain": [
       "609"
      ]
     },
     "execution_count": 25,
     "metadata": {},
     "output_type": "execute_result"
    }
   ],
   "source": [
    "len(stanford_rdf['resources'])"
   ]
  },
  {
   "cell_type": "code",
   "execution_count": 10,
   "metadata": {
    "tags": []
   },
   "outputs": [
    {
     "data": {
      "text/plain": [
       "585"
      ]
     },
     "execution_count": 10,
     "metadata": {},
     "output_type": "execute_result"
    }
   ],
   "source": [
    "len(stanford_rdf['resources'])"
   ]
  },
  {
   "cell_type": "code",
   "execution_count": null,
   "metadata": {},
   "outputs": [],
   "source": []
  },
  {
   "cell_type": "code",
   "execution_count": 13,
   "metadata": {},
   "outputs": [],
   "source": [
    "stanford_graph = rdflib.ConjunctiveGraph()\n",
    "for row in stanford_rdf['resources']:\n",
    "    stanford_graph += row['graph']"
   ]
  },
  {
   "cell_type": "code",
   "execution_count": 15,
   "metadata": {},
   "outputs": [],
   "source": [
    "stanford_kb = kglab.KnowledgeGraph(\n",
    "    name = \"Sinopia Stage Stanford KG\",\n",
    "    base_uri = \"https://api.stage.sinopia.io/resource/\",\n",
    "    namespaces = namespaces,\n",
    "    import_graph=stanford_graph\n",
    ")"
   ]
  },
  {
   "cell_type": "code",
   "execution_count": 21,
   "metadata": {},
   "outputs": [
    {
     "name": "stdout",
     "output_type": "stream",
     "text": [
      "edges: 16,289\n",
      "\n",
      "nodes: 1,952\n",
      "\n"
     ]
    }
   ],
   "source": [
    "measure.measure_graph(stanford_kb)\n",
    "print(\"edges: {:,}\\n\".format(measure.get_edge_count()))\n",
    "print(\"nodes: {:,}\\n\".format(measure.get_node_count()))"
   ]
  },
  {
   "cell_type": "markdown",
   "metadata": {},
   "source": [
    "## Work-Instance-Item Visualization"
   ]
  },
  {
   "cell_type": "code",
   "execution_count": 27,
   "metadata": {},
   "outputs": [],
   "source": [
    "from rdflib.plugins.stores.sparqlconnector import SPARQLConnector"
   ]
  },
  {
   "cell_type": "code",
   "execution_count": 28,
   "metadata": {},
   "outputs": [],
   "source": [
    "qa_pcc_endpoint = SPARQLConnector('http://services.ld4l.org/fuseki/PCC/sparql',\n",
    "                                  returnFormat='json')"
   ]
  },
  {
   "cell_type": "code",
   "execution_count": 30,
   "metadata": {},
   "outputs": [],
   "source": [
    "query = qa_pcc_endpoint.query(\"SELECT ?s ?p ?o WHERE { ?s ?p ?o . } LIMIT 10\")"
   ]
  },
  {
   "cell_type": "code",
   "execution_count": 31,
   "metadata": {},
   "outputs": [
    {
     "name": "stdout",
     "output_type": "stream",
     "text": [
      "(rdflib.term.URIRef('https://svde.org/pcc/rdfBibframe//Provenance/PCCocm01536849'), rdflib.term.URIRef('http://www.w3.org/1999/02/22-rdf-syntax-ns#type'), rdflib.term.URIRef('http://www.w3.org/ns/prov#Entity'))\n",
      "(rdflib.term.URIRef('https://svde.org/pcc/rdfBibframe//Provenance/PCCocm01536849'), rdflib.term.URIRef('http://www.w3.org/2000/01/rdf-schema#label'), rdflib.term.Literal('PCCocm01536849'))\n",
      "(rdflib.term.URIRef('https://svde.org/pcc/rdfBibframe//Provenance/PCCocm01536849'), rdflib.term.URIRef('http://www.w3.org/ns/prov#wasAttributedTo'), rdflib.term.URIRef('https://svde.org/pcc/rdfBibframe//Agent/PCC'))\n",
      "(rdflib.term.URIRef('https://svde.org/pcc/rdfBibframe//Agent/PCC'), rdflib.term.URIRef('http://www.w3.org/1999/02/22-rdf-syntax-ns#type'), rdflib.term.URIRef('http://www.w3.org/ns/prov#Agent'))\n",
      "(rdflib.term.URIRef('https://svde.org/pcc/rdfBibframe//AdminMetadata/PCCocm01536849'), rdflib.term.URIRef('http://www.w3.org/1999/02/22-rdf-syntax-ns#type'), rdflib.term.URIRef('http://id.loc.gov/ontologies/bibframe/AdminMetadata'))\n",
      "(rdflib.term.URIRef('https://svde.org/pcc/rdfBibframe//AdminMetadata/PCCocm01536849'), rdflib.term.URIRef('http://id.loc.gov/ontologies/bibframe/source'), rdflib.term.URIRef('https://svde.org/pcc/rdfBibframe//Source/5a522d89-476c-3ecf-95a9-1763db9651fa'))\n",
      "(rdflib.term.URIRef('https://svde.org/pcc/rdfBibframe//AdminMetadata/PCCocm01536849'), rdflib.term.URIRef('http://id.loc.gov/ontologies/bibframe/source'), rdflib.term.URIRef('https://svde.org/pcc/rdfBibframe//Agent_040/2cdf52a5-5876-363e-893b-7d18bc741f6c'))\n",
      "(rdflib.term.URIRef('https://svde.org/pcc/rdfBibframe//AdminMetadata/PCCocm01536849'), rdflib.term.URIRef('http://id.loc.gov/ontologies/bibframe/changeDate'), rdflib.term.Literal('2020-12-18T03:28:37'))\n",
      "(rdflib.term.URIRef('https://svde.org/pcc/rdfBibframe//AdminMetadata/PCCocm01536849'), rdflib.term.URIRef('http://id.loc.gov/ontologies/bibframe/identifiedBy'), rdflib.term.URIRef('https://svde.org/pcc/rdfBibframe//Local_016/81ff8f12-fc54-3adc-a01e-8410763ac197'))\n",
      "(rdflib.term.URIRef('https://svde.org/pcc/rdfBibframe//AdminMetadata/PCCocm01536849'), rdflib.term.URIRef('http://id.loc.gov/ontologies/bibframe/identifiedBy'), rdflib.term.URIRef('https://svde.org/pcc/rdfBibframe//Local_016/e51bb4bb-6bec-351b-8ef4-58a86df207f6'))\n"
     ]
    }
   ],
   "source": [
    "for row in query:\n",
    "    print(row)"
   ]
  },
  {
   "cell_type": "code",
   "execution_count": null,
   "metadata": {},
   "outputs": [],
   "source": [
    "def bf_entities(uri: str) -> rdflib.Graph:\n",
    "    entity_\n",
    "    "
   ]
  },
  {
   "cell_type": "code",
   "execution_count": 5,
   "metadata": {},
   "outputs": [],
   "source": [
    "mla_url = \"https://api.stage.sinopia.io/resource?group=mla\""
   ]
  },
  {
   "cell_type": "code",
   "execution_count": 8,
   "metadata": {},
   "outputs": [
    {
     "name": "stdout",
     "output_type": "stream",
     "text": [
      "Started harvest of resources at 2021-06-24 17:13:08.629930 for https://api.stage.sinopia.io/resource?group=mla\n",
      "0\n",
      "Finished total time 0.0\n"
     ]
    }
   ],
   "source": [
    "mla_rdf = from_api(mla_url)"
   ]
  },
  {
   "cell_type": "code",
   "execution_count": 10,
   "metadata": {
    "collapsed": true,
    "jupyter": {
     "outputs_hidden": true
    },
    "tags": []
   },
   "outputs": [
    {
     "data": {
      "text/plain": [
       "{'resources': [{'graph': <Graph identifier=N75b9382dcf5544bd8d8c22adeab1a020 (<class 'rdflib.graph.Graph'>)>,\n",
       "   'meta': {'user': 'metadatum',\n",
       "    'group': 'mla',\n",
       "    'templateId': 'PMO:bf2:kk:workWithContributionLDWG',\n",
       "    'types': ['http://id.loc.gov/ontologies/bibframe/Work'],\n",
       "    'bfAdminMetadataRefs': [],\n",
       "    'bfItemRefs': [],\n",
       "    'bfInstanceRefs': [],\n",
       "    'bfWorkRefs': [],\n",
       "    'id': '7f317d00-ceeb-41bd-b327-530a45c0a847',\n",
       "    'uri': 'https://api.stage.sinopia.io/resource/7f317d00-ceeb-41bd-b327-530a45c0a847',\n",
       "    'timestamp': '2021-06-24T03:16:59.891Z'}},\n",
       "  {'graph': <Graph identifier=Nd60f840c8a004b648fc061903f268391 (<class 'rdflib.graph.Graph'>)>,\n",
       "   'meta': {'user': 'metadatum',\n",
       "    'group': 'mla',\n",
       "    'templateId': 'PMO:bf2:kk:workWithContributionLDWG',\n",
       "    'types': ['http://id.loc.gov/ontologies/bibframe/Work'],\n",
       "    'bfAdminMetadataRefs': [],\n",
       "    'bfItemRefs': [],\n",
       "    'bfInstanceRefs': [],\n",
       "    'bfWorkRefs': [],\n",
       "    'id': '7475d919-0fb2-4482-a5c1-e226c7270903',\n",
       "    'uri': 'https://api.stage.sinopia.io/resource/7475d919-0fb2-4482-a5c1-e226c7270903',\n",
       "    'timestamp': '2021-06-24T03:13:34.592Z'}},\n",
       "  {'graph': <Graph identifier=N9b2e2131a566474ba26aa6b85f6c3563 (<class 'rdflib.graph.Graph'>)>,\n",
       "   'meta': {'user': 'metadatum',\n",
       "    'group': 'mla',\n",
       "    'templateId': 'PMO:bf2:kk:workWithContributionLDWG',\n",
       "    'types': ['http://id.loc.gov/ontologies/bibframe/Work'],\n",
       "    'bfAdminMetadataRefs': [],\n",
       "    'bfItemRefs': [],\n",
       "    'bfInstanceRefs': [],\n",
       "    'bfWorkRefs': [],\n",
       "    'id': 'ec93f5e0-2cce-4ebb-a796-575a9117aa9b',\n",
       "    'uri': 'https://api.stage.sinopia.io/resource/ec93f5e0-2cce-4ebb-a796-575a9117aa9b',\n",
       "    'timestamp': '2021-06-24T03:09:33.912Z'}},\n",
       "  {'graph': <Graph identifier=Nf27758a6d360430e84000cd9737cd713 (<class 'rdflib.graph.Graph'>)>,\n",
       "   'meta': {'user': 'fferko',\n",
       "    'group': 'mla',\n",
       "    'templateId': 'PMO:bf2:kk:workWithContributionLDWG',\n",
       "    'types': ['http://id.loc.gov/ontologies/bibframe/Work'],\n",
       "    'bfAdminMetadataRefs': [],\n",
       "    'bfItemRefs': [],\n",
       "    'bfInstanceRefs': [],\n",
       "    'bfWorkRefs': [],\n",
       "    'id': 'bf51635e-c51e-44d0-9be8-70ba82c3a843',\n",
       "    'uri': 'https://api.stage.sinopia.io/resource/bf51635e-c51e-44d0-9be8-70ba82c3a843',\n",
       "    'timestamp': '2021-06-23T04:42:14.689Z'}},\n",
       "  {'graph': <Graph identifier=N9797633315b34d6081a8ef996a9ea891 (<class 'rdflib.graph.Graph'>)>,\n",
       "   'meta': {'user': 'stmantz',\n",
       "    'group': 'mla',\n",
       "    'templateId': 'PMO:bf2:kk:workWithContributionLDWG',\n",
       "    'types': ['http://id.loc.gov/ontologies/bibframe/Work'],\n",
       "    'bfAdminMetadataRefs': [],\n",
       "    'bfItemRefs': [],\n",
       "    'bfInstanceRefs': [],\n",
       "    'bfWorkRefs': [],\n",
       "    'id': 'f53638be-14c5-4ca8-92ef-3bb432edc38d',\n",
       "    'uri': 'https://api.stage.sinopia.io/resource/f53638be-14c5-4ca8-92ef-3bb432edc38d',\n",
       "    'timestamp': '2021-06-22T14:54:00.507Z'}},\n",
       "  {'graph': <Graph identifier=N8aee397c1be94a42a07dbb7891f62e57 (<class 'rdflib.graph.Graph'>)>,\n",
       "   'meta': {'user': 'casey326',\n",
       "    'group': 'mla',\n",
       "    'templateId': 'PMO:bf2:kk:workWithContributionSimplified',\n",
       "    'types': ['http://id.loc.gov/ontologies/bibframe/Work'],\n",
       "    'bfAdminMetadataRefs': [],\n",
       "    'bfItemRefs': [],\n",
       "    'bfInstanceRefs': [],\n",
       "    'bfWorkRefs': [],\n",
       "    'id': '4f110478-56ea-4459-bc7b-451f5748d7e5',\n",
       "    'uri': 'https://api.stage.sinopia.io/resource/4f110478-56ea-4459-bc7b-451f5748d7e5',\n",
       "    'timestamp': '2021-06-18T15:22:49.612Z'}},\n",
       "  {'graph': <Graph identifier=N0a71adddc1114070bf4cda7301e9a962 (<class 'rdflib.graph.Graph'>)>,\n",
       "   'meta': {'user': 'casey326',\n",
       "    'group': 'mla',\n",
       "    'templateId': 'PMO:bf2:kk:workWithContributionLDWG',\n",
       "    'types': ['http://id.loc.gov/ontologies/bibframe/Work'],\n",
       "    'bfAdminMetadataRefs': [],\n",
       "    'bfItemRefs': [],\n",
       "    'bfInstanceRefs': [],\n",
       "    'bfWorkRefs': [],\n",
       "    'id': 'f5317216-865b-4918-bb43-9f6ccb713907',\n",
       "    'uri': 'https://api.stage.sinopia.io/resource/f5317216-865b-4918-bb43-9f6ccb713907',\n",
       "    'timestamp': '2021-06-18T15:10:16.064Z'}},\n",
       "  {'graph': <Graph identifier=N109f16f526c74aceacdeec7ed631bbf4 (<class 'rdflib.graph.Graph'>)>,\n",
       "   'meta': {'user': 'metadatum',\n",
       "    'group': 'mla',\n",
       "    'templateId': 'PMO:bf2:ldwg:workWithMOP',\n",
       "    'types': ['http://id.loc.gov/ontologies/bibframe/Work'],\n",
       "    'bfAdminMetadataRefs': [],\n",
       "    'bfItemRefs': [],\n",
       "    'bfInstanceRefs': [],\n",
       "    'bfWorkRefs': [],\n",
       "    'id': '8c70be68-8185-42cf-ad6d-eab3cc265bdf',\n",
       "    'uri': 'https://api.stage.sinopia.io/resource/8c70be68-8185-42cf-ad6d-eab3cc265bdf',\n",
       "    'timestamp': '2021-06-16T02:47:54.462Z'}},\n",
       "  {'graph': <Graph identifier=Nd5ba1326f5434eabb5e820d215bc8f7e (<class 'rdflib.graph.Graph'>)>,\n",
       "   'meta': {'user': 'metadatum',\n",
       "    'group': 'mla',\n",
       "    'templateId': 'PMO:bf2:ldwg:workWithMOP',\n",
       "    'types': ['http://id.loc.gov/ontologies/bibframe/Work'],\n",
       "    'bfAdminMetadataRefs': [],\n",
       "    'bfItemRefs': [],\n",
       "    'bfInstanceRefs': [],\n",
       "    'bfWorkRefs': [],\n",
       "    'id': 'bec5bea1-de99-4ff1-a977-a145a3fb81fb',\n",
       "    'uri': 'https://api.stage.sinopia.io/resource/bec5bea1-de99-4ff1-a977-a145a3fb81fb',\n",
       "    'timestamp': '2021-06-16T02:36:27.030Z'}},\n",
       "  {'graph': <Graph identifier=N4e70df50b49b48c5a9f5cd42ac509ddc (<class 'rdflib.graph.Graph'>)>,\n",
       "   'meta': {'user': 'metadatum',\n",
       "    'group': 'mla',\n",
       "    'templateId': 'PMO:bf2:ldwg:workWithMOP',\n",
       "    'types': ['http://id.loc.gov/ontologies/bibframe/Work'],\n",
       "    'bfAdminMetadataRefs': [],\n",
       "    'bfItemRefs': [],\n",
       "    'bfInstanceRefs': [],\n",
       "    'bfWorkRefs': [],\n",
       "    'id': '4ce7f9d5-49ad-44f9-8e8d-7da7c3742d9c',\n",
       "    'uri': 'https://api.stage.sinopia.io/resource/4ce7f9d5-49ad-44f9-8e8d-7da7c3742d9c',\n",
       "    'timestamp': '2021-06-16T02:33:40.852Z'}},\n",
       "  {'graph': <Graph identifier=N0e5da83a5bcc4bd8b6d3ab7b3f10a601 (<class 'rdflib.graph.Graph'>)>,\n",
       "   'meta': {'user': 'metadatum',\n",
       "    'group': 'mla',\n",
       "    'templateId': 'PMO:bf2:ldwg:workWithMOP',\n",
       "    'types': ['http://id.loc.gov/ontologies/bibframe/Work'],\n",
       "    'bfAdminMetadataRefs': [],\n",
       "    'bfItemRefs': [],\n",
       "    'bfInstanceRefs': [],\n",
       "    'bfWorkRefs': [],\n",
       "    'id': '8eb1c6f8-bdb8-44ee-8b50-f6e21a2a2f4a',\n",
       "    'uri': 'https://api.stage.sinopia.io/resource/8eb1c6f8-bdb8-44ee-8b50-f6e21a2a2f4a',\n",
       "    'timestamp': '2021-06-16T02:25:06.710Z'}},\n",
       "  {'graph': <Graph identifier=Nd0664348615943e3ad158397529caf68 (<class 'rdflib.graph.Graph'>)>,\n",
       "   'meta': {'user': 'metadatum',\n",
       "    'group': 'mla',\n",
       "    'templateId': 'PMO:bf2:ldwg:workWithMOP',\n",
       "    'types': ['http://id.loc.gov/ontologies/bibframe/Work'],\n",
       "    'bfAdminMetadataRefs': [],\n",
       "    'bfItemRefs': [],\n",
       "    'bfInstanceRefs': [],\n",
       "    'bfWorkRefs': [],\n",
       "    'id': '0029537a-419f-4744-b2a2-95f3c27a6ff2',\n",
       "    'uri': 'https://api.stage.sinopia.io/resource/0029537a-419f-4744-b2a2-95f3c27a6ff2',\n",
       "    'timestamp': '2021-06-16T02:23:57.148Z'}},\n",
       "  {'graph': <Graph identifier=N2f93722b0c0e4791bd80e5a1d1a9a376 (<class 'rdflib.graph.Graph'>)>,\n",
       "   'meta': {'user': 'metadatum',\n",
       "    'group': 'mla',\n",
       "    'templateId': 'PMO:bf2:ldwg:workWithMOP',\n",
       "    'types': ['http://id.loc.gov/ontologies/bibframe/Work'],\n",
       "    'bfAdminMetadataRefs': [],\n",
       "    'bfItemRefs': [],\n",
       "    'bfInstanceRefs': [],\n",
       "    'bfWorkRefs': [],\n",
       "    'id': '5e51d728-4c52-41ae-894a-9b2139c43dc1',\n",
       "    'uri': 'https://api.stage.sinopia.io/resource/5e51d728-4c52-41ae-894a-9b2139c43dc1',\n",
       "    'timestamp': '2021-06-16T02:20:15.686Z'}},\n",
       "  {'graph': <Graph identifier=N140c8d67d8c44d6fbf94ac00e4afc6f8 (<class 'rdflib.graph.Graph'>)>,\n",
       "   'meta': {'user': 'metadatum',\n",
       "    'group': 'mla',\n",
       "    'templateId': 'PMO:bf2:ldwg:workWithMOP',\n",
       "    'types': ['http://id.loc.gov/ontologies/bibframe/Work'],\n",
       "    'bfAdminMetadataRefs': [],\n",
       "    'bfItemRefs': [],\n",
       "    'bfInstanceRefs': [],\n",
       "    'bfWorkRefs': [],\n",
       "    'id': '2357e178-eaf9-435e-8dbb-3f29c92876c3',\n",
       "    'uri': 'https://api.stage.sinopia.io/resource/2357e178-eaf9-435e-8dbb-3f29c92876c3',\n",
       "    'timestamp': '2021-06-16T02:15:53.198Z'}},\n",
       "  {'graph': <Graph identifier=N5eb714c576d945228f03536b48742654 (<class 'rdflib.graph.Graph'>)>,\n",
       "   'meta': {'user': 'metadatum',\n",
       "    'group': 'mla',\n",
       "    'templateId': 'PMO:bf2:ldwg:workWithMOP',\n",
       "    'types': ['http://id.loc.gov/ontologies/bibframe/Work'],\n",
       "    'bfAdminMetadataRefs': [],\n",
       "    'bfItemRefs': [],\n",
       "    'bfInstanceRefs': [],\n",
       "    'bfWorkRefs': [],\n",
       "    'id': 'fede2016-3de6-4151-a517-95c79e560370',\n",
       "    'uri': 'https://api.stage.sinopia.io/resource/fede2016-3de6-4151-a517-95c79e560370',\n",
       "    'timestamp': '2021-06-16T02:15:34.637Z'}},\n",
       "  {'graph': <Graph identifier=N608c0d9d4c9340dfafffd35c1e1683b8 (<class 'rdflib.graph.Graph'>)>,\n",
       "   'meta': {'user': 'metadatum',\n",
       "    'group': 'mla',\n",
       "    'templateId': 'PMO:bf2:ldwg:workWithMOP',\n",
       "    'types': ['http://id.loc.gov/ontologies/bibframe/Work'],\n",
       "    'bfAdminMetadataRefs': [],\n",
       "    'bfItemRefs': [],\n",
       "    'bfInstanceRefs': [],\n",
       "    'bfWorkRefs': [],\n",
       "    'id': '6cc4281e-e56b-4f74-9aaf-71ab020756f1',\n",
       "    'uri': 'https://api.stage.sinopia.io/resource/6cc4281e-e56b-4f74-9aaf-71ab020756f1',\n",
       "    'timestamp': '2021-06-16T02:15:14.960Z'}},\n",
       "  {'graph': <Graph identifier=N22a64ff0f8ff4ad3911963259e2341ef (<class 'rdflib.graph.Graph'>)>,\n",
       "   'meta': {'user': 'metadatum',\n",
       "    'group': 'mla',\n",
       "    'templateId': 'PMO:bf2:ldwg:workWithMOP',\n",
       "    'types': ['http://id.loc.gov/ontologies/bibframe/Work'],\n",
       "    'bfAdminMetadataRefs': [],\n",
       "    'bfItemRefs': [],\n",
       "    'bfInstanceRefs': [],\n",
       "    'bfWorkRefs': [],\n",
       "    'id': '3dedd4de-2dcc-4e68-a5c2-ba2e090221ce',\n",
       "    'uri': 'https://api.stage.sinopia.io/resource/3dedd4de-2dcc-4e68-a5c2-ba2e090221ce',\n",
       "    'timestamp': '2021-06-16T02:04:19.997Z'}},\n",
       "  {'graph': <Graph identifier=N621d14b69d474023b0c0d4e3fcc40647 (<class 'rdflib.graph.Graph'>)>,\n",
       "   'meta': {'user': 'metadatum',\n",
       "    'group': 'mla',\n",
       "    'templateId': 'PMO:bf2:ldwg:workWithMOP',\n",
       "    'types': ['http://id.loc.gov/ontologies/bibframe/Work'],\n",
       "    'bfAdminMetadataRefs': [],\n",
       "    'bfItemRefs': [],\n",
       "    'bfInstanceRefs': [],\n",
       "    'bfWorkRefs': [],\n",
       "    'id': '167c752a-c6e2-427c-97e0-6d70c1eeea9b',\n",
       "    'uri': 'https://api.stage.sinopia.io/resource/167c752a-c6e2-427c-97e0-6d70c1eeea9b',\n",
       "    'timestamp': '2021-06-16T02:03:30.662Z'}},\n",
       "  {'graph': <Graph identifier=N8622c919c59f40fe8b91b5287146c947 (<class 'rdflib.graph.Graph'>)>,\n",
       "   'meta': {'user': 'metadatum',\n",
       "    'group': 'mla',\n",
       "    'templateId': 'PMO:bf2:ldwg:workWithMOP',\n",
       "    'types': ['http://id.loc.gov/ontologies/bibframe/Work'],\n",
       "    'bfAdminMetadataRefs': [],\n",
       "    'bfItemRefs': [],\n",
       "    'bfInstanceRefs': [],\n",
       "    'bfWorkRefs': [],\n",
       "    'id': '91deb566-3edf-4811-b2c0-df511aa506bf',\n",
       "    'uri': 'https://api.stage.sinopia.io/resource/91deb566-3edf-4811-b2c0-df511aa506bf',\n",
       "    'timestamp': '2021-06-16T02:03:03.244Z'}},\n",
       "  {'graph': <Graph identifier=N917bd2e6eb7b441bbdf9a25f816c93a0 (<class 'rdflib.graph.Graph'>)>,\n",
       "   'meta': {'user': 'metadatum',\n",
       "    'group': 'mla',\n",
       "    'templateId': 'PMO:bf2:kk:workWithContributionLDWG',\n",
       "    'types': ['http://id.loc.gov/ontologies/bibframe/Work'],\n",
       "    'bfAdminMetadataRefs': [],\n",
       "    'bfItemRefs': [],\n",
       "    'bfInstanceRefs': [],\n",
       "    'bfWorkRefs': [],\n",
       "    'id': '2b57c795-61f3-494a-a7e8-e1ed7fb123f0',\n",
       "    'uri': 'https://api.stage.sinopia.io/resource/2b57c795-61f3-494a-a7e8-e1ed7fb123f0',\n",
       "    'timestamp': '2021-06-12T04:02:22.021Z'}},\n",
       "  {'graph': <Graph identifier=N8f621b55e54f4e7b8a0e22562f5f1eb7 (<class 'rdflib.graph.Graph'>)>,\n",
       "   'meta': {'user': 'metadatum',\n",
       "    'group': 'mla',\n",
       "    'templateId': 'PMO:bf2:kk:workWithContributionLDWG',\n",
       "    'types': ['http://id.loc.gov/ontologies/bibframe/Work'],\n",
       "    'bfAdminMetadataRefs': [],\n",
       "    'bfItemRefs': [],\n",
       "    'bfInstanceRefs': [],\n",
       "    'bfWorkRefs': [],\n",
       "    'id': 'abb9e290-3fd2-4014-8669-11a3304eaa14',\n",
       "    'uri': 'https://api.stage.sinopia.io/resource/2b57c795-61f3-494a-a7e8-e1ed7fb123f0',\n",
       "    'timestamp': '2021-05-27T18:31:19.470Z'}},\n",
       "  {'graph': <Graph identifier=N64224002581945229df0ceae86f8655b (<class 'rdflib.graph.Graph'>)>,\n",
       "   'meta': {'user': 'metadatum',\n",
       "    'group': 'mla',\n",
       "    'templateId': 'PMO:bf2:kk:workWithContributionLDWG',\n",
       "    'types': ['http://id.loc.gov/ontologies/bibframe/Work'],\n",
       "    'bfAdminMetadataRefs': [],\n",
       "    'bfItemRefs': [],\n",
       "    'bfInstanceRefs': [],\n",
       "    'bfWorkRefs': [],\n",
       "    'id': '2c6335a9-efed-4fb9-9e54-6bc1b3400d71',\n",
       "    'uri': 'https://api.stage.sinopia.io/resource/2b57c795-61f3-494a-a7e8-e1ed7fb123f0',\n",
       "    'timestamp': '2021-05-27T18:31:18.866Z'}}],\n",
       " 'templates': [{'graph': <Graph identifier=Nae2d20fed44b47dab33417019c78bbb8 (<class 'rdflib.graph.Graph'>)>,\n",
       "   'meta': {'user': 'metadatum',\n",
       "    'group': 'mla',\n",
       "    'templateId': 'sinopia:template:resource',\n",
       "    'types': ['http://sinopia.io/vocabulary/ResourceTemplate'],\n",
       "    'bfAdminMetadataRefs': [],\n",
       "    'bfItemRefs': [],\n",
       "    'bfInstanceRefs': [],\n",
       "    'bfWorkRefs': [],\n",
       "    'id': 'pmo2:bf2:ldwg:Title:WorkTitle',\n",
       "    'uri': 'https://api.stage.sinopia.io/resource/pmo2:bf2:ldwg:Title:WorkTitle',\n",
       "    'timestamp': '2021-06-16T02:47:01.409Z'}},\n",
       "  {'graph': <Graph identifier=Ne7d572bde8ed490791a82b55d22f7d40 (<class 'rdflib.graph.Graph'>)>,\n",
       "   'meta': {'user': 'metadatum',\n",
       "    'group': 'mla',\n",
       "    'templateId': 'sinopia:template:resource',\n",
       "    'types': ['http://sinopia.io/vocabulary/ResourceTemplate'],\n",
       "    'bfAdminMetadataRefs': [],\n",
       "    'bfItemRefs': [],\n",
       "    'bfInstanceRefs': [],\n",
       "    'bfWorkRefs': [],\n",
       "    'id': 'PMO:bf2:ldwg:workWithMOP',\n",
       "    'uri': 'https://api.stage.sinopia.io/resource/PMO:bf2:ldwg:workWithMOP',\n",
       "    'timestamp': '2021-06-16T02:41:57.372Z'}},\n",
       "  {'graph': <Graph identifier=N5eaa2005e5fc4762bd4355e3d7ac24b7 (<class 'rdflib.graph.Graph'>)>,\n",
       "   'meta': {'user': 'metadatum',\n",
       "    'group': 'mla',\n",
       "    'templateId': 'sinopia:template:resource',\n",
       "    'types': ['http://sinopia.io/vocabulary/ResourceTemplate'],\n",
       "    'bfAdminMetadataRefs': [],\n",
       "    'bfItemRefs': [],\n",
       "    'bfInstanceRefs': [],\n",
       "    'bfWorkRefs': [],\n",
       "    'id': 'pmo2:bf2:ldwg:mediumComponent',\n",
       "    'uri': 'https://api.stage.sinopia.io/resource/pmo2:bf2:ldwg:mediumComponent',\n",
       "    'timestamp': '2021-06-12T00:01:32.940Z'}}],\n",
       " 'total': 25}"
      ]
     },
     "execution_count": 10,
     "metadata": {},
     "output_type": "execute_result"
    }
   ],
   "source": [
    "mla_rdf"
   ]
  },
  {
   "cell_type": "markdown",
   "metadata": {},
   "source": [
    "## Extract MLA Resources and Save as Turtle"
   ]
  },
  {
   "cell_type": "code",
   "execution_count": 7,
   "metadata": {},
   "outputs": [
    {
     "name": "stdout",
     "output_type": "stream",
     "text": [
      "Started harvest of resources at 2021-08-09 21:08:11.066624 for https://api.stage.sinopia.io/resource?group=mla\n",
      "0.\n",
      "Finished total time 0.03333333333333333\n"
     ]
    }
   ],
   "source": [
    "namespaces['pmo'] = \"http://performedmusicontology.org/ontology/\"\n",
    "namespaces['rdaw'] = \"http://rdaregistry.info/Elements/w/\"\n",
    "mla_result = from_api(\"https://api.stage.sinopia.io/resource?group=mla\")"
   ]
  },
  {
   "cell_type": "code",
   "execution_count": 8,
   "metadata": {},
   "outputs": [
    {
     "data": {
      "text/plain": [
       "38"
      ]
     },
     "execution_count": 8,
     "metadata": {},
     "output_type": "execute_result"
    }
   ],
   "source": [
    "len(mla_result['resources'])"
   ]
  },
  {
   "cell_type": "code",
   "execution_count": 13,
   "metadata": {
    "tags": []
   },
   "outputs": [
    {
     "name": "stdout",
     "output_type": "stream",
     "text": [
      "@prefix bf: <http://id.loc.gov/ontologies/bibframe/> .\n",
      "@prefix mads: <http://www.loc.gov/mads/rdf/v1#> .\n",
      "@prefix pmo: <http://performedmusicontology.org/ontology/> .\n",
      "@prefix rdaw: <http://rdaregistry.info/Elements/w/> .\n",
      "@prefix rdf: <http://www.w3.org/1999/02/22-rdf-syntax-ns#> .\n",
      "@prefix rdfs: <http://www.w3.org/2000/01/rdf-schema#> .\n",
      "@prefix sinopia: <http://sinopia.io/vocabulary/> .\n",
      "\n",
      "<https://api.stage.sinopia.io/resource/be4ff759-5ba9-4c77-8cfc-a249056f3b08> a bf:Audio ;\n",
      "    bf:capture [ a bf:Capture ;\n",
      "            bf:date \"1994-05\"@eng ;\n",
      "            bf:place [ a bf:Place ;\n",
      "                    bf:place <http://id.loc.gov/authorities/names/n82101833> ] ] ;\n",
      "    bf:contribution [ a bf:Contribution ;\n",
      "            bf:agent [ a bf:Agent,\n",
      "                        bf:Person ;\n",
      "                    mads:isIdentifiedByAuthority <http://id.loc.gov/authorities/names/n87818155> ] ;\n",
      "            bf:role <http://id.loc.gov/vocabulary/relators/itr> ;\n",
      "            pmo:usesMediumOfPerformance <http://id.loc.gov/authorities/performanceMediums/mp2013015772> ],\n",
      "        [ a bf:Contribution ;\n",
      "            bf:agent [ a bf:Agent,\n",
      "                        bf:Person ;\n",
      "                    rdf:value <https://isni.org/isni/0000000111515307> ] ;\n",
      "            bf:role <http://id.loc.gov/vocabulary/relators/itr> ;\n",
      "            pmo:usesMediumOfPerformance <http://id.loc.gov/authorities/performanceMediums/mp2013015120> ],\n",
      "        [ a bf:Contribution ;\n",
      "            bf:agent [ a bf:Agent,\n",
      "                        bf:Person ;\n",
      "                    mads:isIdentifiedByAuthority <http://id.loc.gov/authorities/names/n85133978> ] ;\n",
      "            bf:role <http://id.loc.gov/vocabulary/relators/itr> ;\n",
      "            pmo:usesMediumOfPerformance <http://id.loc.gov/authorities/performanceMediums/mp2013015507> ],\n",
      "        [ a bf:Contribution ;\n",
      "            bf:agent [ a bf:Agent,\n",
      "                        bf:Person ;\n",
      "                    mads:isIdentifiedByAuthority <http://id.loc.gov/authorities/names/nr93009398> ] ;\n",
      "            bf:role <http://id.loc.gov/vocabulary/relators/itr> ;\n",
      "            pmo:usesMediumOfPerformance <http://id.loc.gov/authorities/performanceMediums/mp2013015782> ],\n",
      "        [ a bf:Contribution ;\n",
      "            bf:agent [ a bf:Agent,\n",
      "                        bf:Person ;\n",
      "                    rdf:value <https://isni.org/isni/0000000057384587> ] ;\n",
      "            bf:role <http://id.loc.gov/vocabulary/relators/itr> ;\n",
      "            pmo:usesMediumOfPerformance <http://id.loc.gov/authorities/performanceMediums/mp2013015782> ] ;\n",
      "    bf:expressionOf [ a bf:Work ;\n",
      "            rdaw:P10331 \"Reicha, Anton, 1770-1836. Quintets, oboe, violins (2), viola, cello, op. 107, F major\"@eng ;\n",
      "            mads:isIdentifiedByAuthority <http://id.loc.gov/authorities/names/nr2001018212> ] ;\n",
      "    bf:mainTitle \"Quintet for oboe and string quartet, F major, op. 107\"@eng ;\n",
      "    bf:note [ a bf:Note ;\n",
      "            rdfs:label \"ldwg 3\"@eng ] ;\n",
      "    pmo:hasMediumComponent [ a pmo:MediumComponent ;\n",
      "            pmo:hasMediumCount \"1\"@eng ;\n",
      "            pmo:hasMediumOfPerformance <http://id.loc.gov/authorities/performanceMediums/mp2013015507> ],\n",
      "        [ a pmo:MediumComponent ;\n",
      "            pmo:hasMediumCount \"2\"@eng ;\n",
      "            pmo:hasMediumOfPerformance <http://id.loc.gov/authorities/performanceMediums/mp2013015782> ],\n",
      "        [ a pmo:MediumComponent ;\n",
      "            pmo:hasMediumCount \"1\"@eng ;\n",
      "            pmo:hasMediumOfPerformance <http://id.loc.gov/authorities/performanceMediums/mp2013015772> ],\n",
      "        [ a pmo:MediumComponent ;\n",
      "            pmo:hasMediumCount \"1\"@eng ;\n",
      "            pmo:hasMediumOfPerformance <http://id.loc.gov/authorities/performanceMediums/mp2013015120> ] ;\n",
      "    pmo:hasMediumType [ a <http://performedmusicontology.org/ontologies/vocabularies/medium_type/quintet>,\n",
      "                pmo:MediumType ] ;\n",
      "    sinopia:hasResourceTemplate \"PMO:bf2:ldwg:AudioWorkWithContributionAndMopSimple\" .\n",
      "\n",
      "<http://id.loc.gov/authorities/names/n82101833> rdfs:label \"Arolsen (Germany)@en\" .\n",
      "\n",
      "<http://id.loc.gov/authorities/names/n85133978> rdfs:label \"Schmalfuss, Gernot@en\" .\n",
      "\n",
      "<http://id.loc.gov/authorities/names/n87818155> rdfs:label \"Hörr, Chr.@en\" .\n",
      "\n",
      "<http://id.loc.gov/authorities/names/nr2001018212> rdfs:label \"http://id.loc.gov/authorities/names/nr2001018212\" .\n",
      "\n",
      "<http://id.loc.gov/authorities/names/nr93009398> rdfs:label \"Krecher, Andreas@en\" .\n",
      "\n",
      "<http://performedmusicontology.org/ontologies/vocabularies/medium_type/quintet> rdfs:label \"quintet (5 performers)\" .\n",
      "\n",
      "pmo:MediumType rdfs:label \"http://performedmusicontology.org/ontology/MediumType\" .\n",
      "\n",
      "<https://isni.org/isni/0000000057384587> rdfs:label \"[Gerður Gunnarsdóttir, Gunnarsdottir, Gerdur, GUNNARSDOTTIR, GERDUR, Gunnarsdóttir, Gerdur, Gunn...\" .\n",
      "\n",
      "<https://isni.org/isni/0000000111515307> rdfs:label \"[Martin Menking, Menking, Martin]\" .\n",
      "\n",
      "<http://id.loc.gov/authorities/performanceMediums/mp2013015120> rdfs:label \"cello@en\" .\n",
      "\n",
      "<http://id.loc.gov/authorities/performanceMediums/mp2013015507> rdfs:label \"oboe@en\" .\n",
      "\n",
      "<http://id.loc.gov/authorities/performanceMediums/mp2013015772> rdfs:label \"viola@en\" .\n",
      "\n",
      "<http://id.loc.gov/authorities/performanceMediums/mp2013015782> rdfs:label \"violin@en\" .\n",
      "\n",
      "bf:Agent rdfs:label \"http://id.loc.gov/ontologies/bibframe/Agent\" .\n",
      "\n",
      "bf:Person rdfs:label \"Person\" .\n",
      "\n",
      "<http://id.loc.gov/vocabulary/relators/itr> rdfs:label \"Instrumentalist\" .\n",
      "\n",
      "\n"
     ]
    }
   ],
   "source": [
    "print(mla_result['resources'][0]['graph'].serialize(format='turtle').decode())"
   ]
  },
  {
   "cell_type": "markdown",
   "metadata": {},
   "source": [
    "### Saves Serialized Resources as Turtle into Zip file"
   ]
  },
  {
   "cell_type": "code",
   "execution_count": 9,
   "metadata": {},
   "outputs": [],
   "source": [
    "import zipfile\n",
    "with zipfile.ZipFile(\"mla-resources.zip\", \"w\") as zip_file:\n",
    "    for resource in mla_result['resources']:\n",
    "        zip_file.writestr(f\"{resource['meta'].get('id')}.ttl\", \n",
    "                          resource['graph'].serialize(format='turtle'))"
   ]
  },
  {
   "cell_type": "code",
   "execution_count": null,
   "metadata": {},
   "outputs": [],
   "source": []
  }
 ],
 "metadata": {
  "kernelspec": {
   "display_name": "Python 3 (ipykernel)",
   "language": "python",
   "name": "python3"
  },
  "language_info": {
   "codemirror_mode": {
    "name": "ipython",
    "version": 3
   },
   "file_extension": ".py",
   "mimetype": "text/x-python",
   "name": "python",
   "nbconvert_exporter": "python",
   "pygments_lexer": "ipython3",
   "version": "3.9.1"
  }
 },
 "nbformat": 4,
 "nbformat_minor": 4
}
