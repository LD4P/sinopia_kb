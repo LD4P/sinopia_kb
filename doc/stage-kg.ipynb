{
 "cells": [
  {
   "cell_type": "markdown",
   "metadata": {},
   "source": [
    "# Sinopia Knowledge Graph"
   ]
  },
  {
   "cell_type": "code",
   "execution_count": 25,
   "metadata": {},
   "outputs": [],
   "source": [
    "import json\n",
    "from datetime import datetime\n",
    "from typing import Dict, List, Optional\n",
    "\n",
    "import pandas as pd\n",
    "\n",
    "import kglab\n",
    "import rdflib\n",
    "import requests"
   ]
  },
  {
   "cell_type": "code",
   "execution_count": 2,
   "metadata": {},
   "outputs": [],
   "source": [
    "namespaces = {\n",
    "    \"bf\": \"http://id.loc.gov/ontologies/bibframe/\",\n",
    "    \"skos\": \"http://www.w3.org/2004/02/skos/core#\",\n",
    "    \"sinopia\": \"http://sinopia.io/vocabulary/\"\n",
    "}\n",
    "\n"
   ]
  },
  {
   "cell_type": "code",
   "execution_count": 3,
   "metadata": {},
   "outputs": [
    {
     "data": {
      "text/html": [
       "<div>\n",
       "<style scoped>\n",
       "    .dataframe tbody tr th:only-of-type {\n",
       "        vertical-align: middle;\n",
       "    }\n",
       "\n",
       "    .dataframe tbody tr th {\n",
       "        vertical-align: top;\n",
       "    }\n",
       "\n",
       "    .dataframe thead th {\n",
       "        text-align: right;\n",
       "    }\n",
       "</style>\n",
       "<table border=\"1\" class=\"dataframe\">\n",
       "  <thead>\n",
       "    <tr style=\"text-align: right;\">\n",
       "      <th></th>\n",
       "      <th>prefix</th>\n",
       "      <th>namespace</th>\n",
       "    </tr>\n",
       "  </thead>\n",
       "  <tbody>\n",
       "    <tr>\n",
       "      <th>0</th>\n",
       "      <td>dct</td>\n",
       "      <td>http://purl.org/dc/terms/</td>\n",
       "    </tr>\n",
       "    <tr>\n",
       "      <th>1</th>\n",
       "      <td>owl</td>\n",
       "      <td>http://www.w3.org/2002/07/owl#</td>\n",
       "    </tr>\n",
       "    <tr>\n",
       "      <th>2</th>\n",
       "      <td>prov</td>\n",
       "      <td>http://www.w3.org/ns/prov#</td>\n",
       "    </tr>\n",
       "    <tr>\n",
       "      <th>3</th>\n",
       "      <td>rdf</td>\n",
       "      <td>http://www.w3.org/1999/02/22-rdf-syntax-ns#</td>\n",
       "    </tr>\n",
       "    <tr>\n",
       "      <th>4</th>\n",
       "      <td>rdfs</td>\n",
       "      <td>http://www.w3.org/2000/01/rdf-schema#</td>\n",
       "    </tr>\n",
       "    <tr>\n",
       "      <th>5</th>\n",
       "      <td>schema</td>\n",
       "      <td>http://schema.org/</td>\n",
       "    </tr>\n",
       "    <tr>\n",
       "      <th>6</th>\n",
       "      <td>sh</td>\n",
       "      <td>http://www.w3.org/ns/shacl#</td>\n",
       "    </tr>\n",
       "    <tr>\n",
       "      <th>7</th>\n",
       "      <td>xsd</td>\n",
       "      <td>http://www.w3.org/2001/XMLSchema#</td>\n",
       "    </tr>\n",
       "    <tr>\n",
       "      <th>8</th>\n",
       "      <td>bf</td>\n",
       "      <td>http://id.loc.gov/ontologies/bibframe/</td>\n",
       "    </tr>\n",
       "    <tr>\n",
       "      <th>9</th>\n",
       "      <td>skos</td>\n",
       "      <td>http://www.w3.org/2004/02/skos/core#</td>\n",
       "    </tr>\n",
       "    <tr>\n",
       "      <th>10</th>\n",
       "      <td>sinopia</td>\n",
       "      <td>http://sinopia.io/vocabulary/</td>\n",
       "    </tr>\n",
       "  </tbody>\n",
       "</table>\n",
       "</div>"
      ],
      "text/plain": [
       "     prefix                                    namespace\n",
       "0       dct                    http://purl.org/dc/terms/\n",
       "1       owl               http://www.w3.org/2002/07/owl#\n",
       "2      prov                   http://www.w3.org/ns/prov#\n",
       "3       rdf  http://www.w3.org/1999/02/22-rdf-syntax-ns#\n",
       "4      rdfs        http://www.w3.org/2000/01/rdf-schema#\n",
       "5    schema                           http://schema.org/\n",
       "6        sh                  http://www.w3.org/ns/shacl#\n",
       "7       xsd            http://www.w3.org/2001/XMLSchema#\n",
       "8        bf       http://id.loc.gov/ontologies/bibframe/\n",
       "9      skos         http://www.w3.org/2004/02/skos/core#\n",
       "10  sinopia                http://sinopia.io/vocabulary/"
      ]
     },
     "execution_count": 3,
     "metadata": {},
     "output_type": "execute_result"
    }
   ],
   "source": [
    "kg.describe_ns()"
   ]
  },
  {
   "cell_type": "code",
   "execution_count": 6,
   "metadata": {},
   "outputs": [],
   "source": [
    "LDP = rdflib.Namespace(\"http://www.w3.org/ns/ldp#\")\n",
    "SINOPIA = rdflib.Namespace(\"http://sinopia.io/vocabulary/\")\n",
    "\n",
    "def from_api(api_url: str) -> Dict:\n",
    "    \"\"\"Takes the new Sinopia API endpoint URI, extracts each resource and\n",
    "    template, and returns a dictionary with two lists, a resources and a\n",
    "    templates, and the total number of resources harvested from the api.\n",
    "\n",
    "    @param api_url -- URI to Sinopia API endpoint\n",
    "    \"\"\"\n",
    "\n",
    "    def add_resource(resource):\n",
    "        if not 'data' in resource:\n",
    "            print(f\"\\n{resource.get('uri')} missing data\")\n",
    "            return\n",
    "        output[\"total\"] += 1\n",
    "        graph = rdflib.Graph()\n",
    "        graph.namespace_manager.bind(\"sinopia\", SINOPIA)\n",
    "        jsonld = json.dumps(resource.pop(\"data\")).encode()\n",
    "        try:\n",
    "            graph.parse(data=jsonld, format=\"json-ld\")\n",
    "        except Exception as error:\n",
    "            print(f\"Failed to parse {resource}\\n{error}\")\n",
    "            return\n",
    "        payload = {\"graph\": graph, \"meta\": resource}\n",
    "        if \"sinopia:template:resource\" in resource.get(\"templateId\"):\n",
    "            output[\"templates\"].append(payload)\n",
    "        else:\n",
    "            output[\"resources\"].append(payload)\n",
    "\n",
    "    output = {\"resources\": [], \"templates\": [], \"total\": 0}\n",
    "    start = datetime.utcnow()\n",
    "    print(f\"Started harvest of resources at {start} for {api_url}\")\n",
    "    initial = requests.get(f\"{api_url}/resource\")\n",
    "    print(\"0\", end=\"\")\n",
    "    for row in initial.json().get(\"data\"):\n",
    "        add_resource(row)\n",
    "    next_link = initial.json().get(\"links\").get(\"next\")\n",
    "    while 1:\n",
    "        result = requests.get(next_link)\n",
    "        if result.status_code > 300:\n",
    "            break\n",
    "        payload = result.json()\n",
    "        new_next = payload.get(\"links\").get(\"next\")\n",
    "        if new_next == next_link or new_next is None:\n",
    "            break\n",
    "        for row in payload.get(\"data\"):\n",
    "            add_resource(row)\n",
    "        next_link = new_next\n",
    "        print(\".\", end=\"\")\n",
    "        if not output[\"total\"] % 250:\n",
    "            print(f\"{output['total']}\", end=\"\")\n",
    "    end = datetime.utcnow()\n",
    "    print(f\"\\nFinished total time {(end-start).seconds / 60.}\")\n",
    "    return output"
   ]
  },
  {
   "cell_type": "code",
   "execution_count": 7,
   "metadata": {},
   "outputs": [
    {
     "name": "stdout",
     "output_type": "stream",
     "text": [
      "Started harvest of resources at 2021-05-12 23:27:45.028062 for https://api.stage.sinopia.io\n",
      "0.........250..........500..........750..........1000..........1250..........1500..........1750..........2000..........2250..........2500..........2750..........3000..........3250..........3500..........3750..........4000..........4250..........4500..........4750"
     ]
    },
    {
     "name": "stderr",
     "output_type": "stream",
     "text": [
      "http://desktop.loc.gov/search?view=document&id=Infobasedcrmg0Dash0Dash0Dash247&hl=true&fq=allresources|true# does not look like a valid URI, trying to serialize this will break.\n"
     ]
    },
    {
     "name": "stdout",
     "output_type": "stream",
     "text": [
      "..........5000..........5250"
     ]
    },
    {
     "name": "stderr",
     "output_type": "stream",
     "text": [
      "ld4p:RT:bf2:2D graphic material:Item does not look like a valid URI, trying to serialize this will break.\n"
     ]
    },
    {
     "name": "stdout",
     "output_type": "stream",
     "text": [
      "..........5500...."
     ]
    },
    {
     "name": "stderr",
     "output_type": "stream",
     "text": [
      "urn:ld4p:qa:gettyaat:Objects__Object_Groupings and Systems does not look like a valid URI, trying to serialize this will break.\n"
     ]
    },
    {
     "name": "stdout",
     "output_type": "stream",
     "text": [
      "......5750..........6000\n",
      "https://api.stage.sinopia.io/resource/e49c5f1d-5e62-4b45-b87f-5d0cf3e573e5 missing data\n",
      "\n",
      "https://api.stage.sinopia.io/resource/3770137a-bed5-4a97-bd9a-fea4f3822dd7 missing data\n",
      "..........\n",
      "https://api.stage.sinopia.io/resource/28961949-72b2-4c94-b1f5-a7788f1ae1f0 missing data\n",
      "\n",
      "https://api.stage.sinopia.io/resource/c3a1d5dd-a829-4ba7-8fbe-20490c018407 missing data\n",
      "\n",
      "https://api.stage.sinopia.io/resource/4e80a183-4487-44fd-9bf8-8497c50d27f3 missing data\n",
      ".\n",
      "https://api.stage.sinopia.io/resource/16625687-0208-4ea5-b299-204d36180c45 missing data\n",
      ".."
     ]
    },
    {
     "name": "stderr",
     "output_type": "stream",
     "text": [
      "https://api.stage.sinopia.io/resource/this is a test does not look like a valid URI, trying to serialize this will break.\n"
     ]
    },
    {
     "name": "stdout",
     "output_type": "stream",
     "text": [
      "............\n",
      "https://api.stage.sinopia.io/resource/a6acbbea-1770-468b-904b-51cc4a3d7f27 missing data\n",
      "....Failed to parse {'user': 'mcm104', 'group': 'washington', 'templateId': 'WAU:RT:BF2:Work', 'types': ['http://id.loc.gov/ontologies/bibframe/Work'], 'id': '0398ce54-ff15-4e9f-8948-c44bcc393798', 'uri': 'https://api.stage.sinopia.io/resource/0398ce54-ff15-4e9f-8948-c44bcc393798', 'timestamp': '2021-03-30T22:02:40.077Z'}\n",
      "'@eng' is not a valid language tag!\n",
      "............................................................................................................................................................\n",
      "Finished total time 5.0\n"
     ]
    }
   ],
   "source": [
    "dev_rdf = from_api(\"https://api.stage.sinopia.io\")"
   ]
  },
  {
   "cell_type": "code",
   "execution_count": 9,
   "metadata": {},
   "outputs": [
    {
     "data": {
      "text/plain": [
       "\u001b[0;31mType:\u001b[0m        dict\n",
       "\u001b[0;31mString form:\u001b[0m {'resources': [{'graph': <Graph identifier=N494e317f7ffe41d18737c060c4bcbb29 (<class 'rdflib.grap <...> lit:RT:bf2:Monograph:Work:Un-nested', 'timestamp': '2021-05-03T17:59:10.972Z'}}], 'total': 10618}\n",
       "\u001b[0;31mLength:\u001b[0m      3\n",
       "\u001b[0;31mDocstring:\u001b[0m  \n",
       "dict() -> new empty dictionary\n",
       "dict(mapping) -> new dictionary initialized from a mapping object's\n",
       "    (key, value) pairs\n",
       "dict(iterable) -> new dictionary initialized as if via:\n",
       "    d = {}\n",
       "    for k, v in iterable:\n",
       "        d[k] = v\n",
       "dict(**kwargs) -> new dictionary initialized with the name=value pairs\n",
       "    in the keyword argument list.  For example:  dict(one=1, two=2)\n"
      ]
     },
     "metadata": {},
     "output_type": "display_data"
    }
   ],
   "source": [
    "kg.load_rdf_text()"
   ]
  },
  {
   "cell_type": "code",
   "execution_count": 16,
   "metadata": {},
   "outputs": [
    {
     "data": {
      "text/plain": [
       "<Graph identifier=N48a11d2f09c141ac9dab2324547ea42a (<class 'rdflib.graph.Graph'>)>"
      ]
     },
     "execution_count": 16,
     "metadata": {},
     "output_type": "execute_result"
    }
   ],
   "source": [
    "kg.rdf_graph()"
   ]
  },
  {
   "cell_type": "code",
   "execution_count": 17,
   "metadata": {},
   "outputs": [
    {
     "data": {
      "text/plain": [
       "\u001b[0;31mInit signature:\u001b[0m\n",
       "\u001b[0mkglab\u001b[0m\u001b[0;34m.\u001b[0m\u001b[0mKnowledgeGraph\u001b[0m\u001b[0;34m(\u001b[0m\u001b[0;34m\u001b[0m\n",
       "\u001b[0;34m\u001b[0m    \u001b[0;34m*\u001b[0m\u001b[0;34m,\u001b[0m\u001b[0;34m\u001b[0m\n",
       "\u001b[0;34m\u001b[0m    \u001b[0mname\u001b[0m\u001b[0;34m:\u001b[0m \u001b[0mstr\u001b[0m \u001b[0;34m=\u001b[0m \u001b[0;34m'generic'\u001b[0m\u001b[0;34m,\u001b[0m\u001b[0;34m\u001b[0m\n",
       "\u001b[0;34m\u001b[0m    \u001b[0mbase_uri\u001b[0m\u001b[0;34m:\u001b[0m \u001b[0mstr\u001b[0m \u001b[0;34m=\u001b[0m \u001b[0;32mNone\u001b[0m\u001b[0;34m,\u001b[0m\u001b[0;34m\u001b[0m\n",
       "\u001b[0;34m\u001b[0m    \u001b[0mlanguage\u001b[0m\u001b[0;34m:\u001b[0m \u001b[0mstr\u001b[0m \u001b[0;34m=\u001b[0m \u001b[0;34m'en'\u001b[0m\u001b[0;34m,\u001b[0m\u001b[0;34m\u001b[0m\n",
       "\u001b[0;34m\u001b[0m    \u001b[0muse_gpus\u001b[0m\u001b[0;34m:\u001b[0m \u001b[0mbool\u001b[0m \u001b[0;34m=\u001b[0m \u001b[0;32mTrue\u001b[0m\u001b[0;34m,\u001b[0m\u001b[0;34m\u001b[0m\n",
       "\u001b[0;34m\u001b[0m    \u001b[0mimport_graph\u001b[0m\u001b[0;34m:\u001b[0m \u001b[0mUnion\u001b[0m\u001b[0;34m[\u001b[0m\u001b[0mrdflib\u001b[0m\u001b[0;34m.\u001b[0m\u001b[0mgraph\u001b[0m\u001b[0;34m.\u001b[0m\u001b[0mConjunctiveGraph\u001b[0m\u001b[0;34m,\u001b[0m \u001b[0mrdflib\u001b[0m\u001b[0;34m.\u001b[0m\u001b[0mgraph\u001b[0m\u001b[0;34m.\u001b[0m\u001b[0mDataset\u001b[0m\u001b[0;34m,\u001b[0m \u001b[0mrdflib\u001b[0m\u001b[0;34m.\u001b[0m\u001b[0mgraph\u001b[0m\u001b[0;34m.\u001b[0m\u001b[0mGraph\u001b[0m\u001b[0;34m,\u001b[0m \u001b[0mNoneType\u001b[0m\u001b[0;34m]\u001b[0m \u001b[0;34m=\u001b[0m \u001b[0;32mNone\u001b[0m\u001b[0;34m,\u001b[0m\u001b[0;34m\u001b[0m\n",
       "\u001b[0;34m\u001b[0m    \u001b[0mnamespaces\u001b[0m\u001b[0;34m:\u001b[0m \u001b[0mdict\u001b[0m \u001b[0;34m=\u001b[0m \u001b[0;32mNone\u001b[0m\u001b[0;34m,\u001b[0m\u001b[0;34m\u001b[0m\n",
       "\u001b[0;34m\u001b[0m\u001b[0;34m)\u001b[0m \u001b[0;34m->\u001b[0m \u001b[0;32mNone\u001b[0m\u001b[0;34m\u001b[0m\u001b[0;34m\u001b[0m\u001b[0m\n",
       "\u001b[0;31mDocstring:\u001b[0m     \n",
       "This is the primary class used to represent RDF graphs, on which the other classes are dependent.\n",
       "See <https://derwen.ai/docs/kgl/concepts/#knowledge-graph>\n",
       "\n",
       "Core feature areas include:\n",
       "\n",
       "  * namespace management (ontology, controlled vocabularies)\n",
       "  * graph construction\n",
       "  * serialization\n",
       "  * SPARQL querying\n",
       "  * SHACL validation\n",
       "  * inference based on OWL-RL, RDFS, SKOS\n",
       "    \n",
       "\u001b[0;31mInit docstring:\u001b[0m\n",
       "Constructor for a `KnowledgeGraph` object.\n",
       "\n",
       "    name:\n",
       "optional, internal name for this graph\n",
       "\n",
       "    base_uri:\n",
       "the default [*base URI*](https://tools.ietf.org/html/rfc3986#section-5.1) for this RDF graph\n",
       "\n",
       "    language:\n",
       "the default [*language tag*](https://www.w3.org/TR/rdf11-concepts/#dfn-language-tag), e.g., used for [*language indexing*](https://www.w3.org/TR/json-ld11/#language-indexing)\n",
       "\n",
       "    use_gpus:\n",
       "optionally, use the NVidia GPU devices with [RAPIDS](https://rapids.ai/) if these libraries have been installed and the devices are available; defaults to `True`\n",
       "\n",
       "    import_graph:\n",
       "optionally, another existing RDF graph to be used as a starting point\n",
       "\n",
       "    namespaces:\n",
       "a dictionary of [*namespace*](https://rdflib.readthedocs.io/en/stable/apidocs/rdflib.html?highlight=namespace#rdflib.Namespace) (dict values) and their corresponding *prefix* strings (dict keys) to add as *controlled vocabularies* which are available for use in the RDF graph, binding each prefix to the given namespace\n",
       "        \n",
       "\u001b[0;31mFile:\u001b[0m           ~/02021/py3-env/lib/python3.9/site-packages/kglab/kglab.py\n",
       "\u001b[0;31mType:\u001b[0m           type\n",
       "\u001b[0;31mSubclasses:\u001b[0m     \n"
      ]
     },
     "metadata": {},
     "output_type": "display_data"
    }
   ],
   "source": [
    "kglab.KnowledgeGraph?"
   ]
  },
  {
   "cell_type": "code",
   "execution_count": 18,
   "metadata": {},
   "outputs": [],
   "source": [
    "stage = rdflib.ConjunctiveGraph()\n",
    "for row in dev_rdf['resources']:\n",
    "    stage += row.get('graph')\n",
    "\n",
    "    \n",
    "kg = kglab.KnowledgeGraph(\n",
    "    name = \"Sinopia Stage KG\",\n",
    "    base_uri = \"https://api.stage.sinopia.io/resource/\",\n",
    "    namespaces = namespaces,\n",
    "    import_graph=stage\n",
    ")"
   ]
  },
  {
   "cell_type": "code",
   "execution_count": 19,
   "metadata": {},
   "outputs": [],
   "source": [
    "measure = kglab.Measure()"
   ]
  },
  {
   "cell_type": "code",
   "execution_count": 20,
   "metadata": {},
   "outputs": [
    {
     "name": "stdout",
     "output_type": "stream",
     "text": [
      "edges: 314046\n",
      "\n",
      "nodes: 67649\n",
      "\n"
     ]
    }
   ],
   "source": [
    "measure.measure_graph(kg)\n",
    "print(\"edges: {}\\n\".format(measure.get_edge_count()))\n",
    "print(\"nodes: {}\\n\".format(measure.get_node_count()))"
   ]
  },
  {
   "cell_type": "code",
   "execution_count": 31,
   "metadata": {},
   "outputs": [],
   "source": [
    "works_query = \"\"\"SELECT ?s ?p ?o \n",
    "WHERE {\n",
    "   ?s ?p ?o .\n",
    "}\"\"\""
   ]
  },
  {
   "cell_type": "code",
   "execution_count": 32,
   "metadata": {},
   "outputs": [],
   "source": [
    "work_instance = kg.visualize_query(works_query, notebook=True)"
   ]
  },
  {
   "cell_type": "code",
   "execution_count": 33,
   "metadata": {},
   "outputs": [
    {
     "data": {
      "text/html": [
       "\n",
       "        <iframe\n",
       "            width=\"500px\"\n",
       "            height=\"500px\"\n",
       "            src=\"tmp.work_instance.html\"\n",
       "            frameborder=\"0\"\n",
       "            allowfullscreen\n",
       "        ></iframe>\n",
       "        "
      ],
      "text/plain": [
       "<IPython.lib.display.IFrame at 0x7fb9dd2ab100>"
      ]
     },
     "execution_count": 33,
     "metadata": {},
     "output_type": "execute_result"
    }
   ],
   "source": [
    "work_instance.force_atlas_2based()\n",
    "work_instance.show('tmp.work_instance.html')"
   ]
  },
  {
   "cell_type": "code",
   "execution_count": 34,
   "metadata": {},
   "outputs": [],
   "source": [
    "df = kg.query_as_df(works_query)"
   ]
  },
  {
   "cell_type": "code",
   "execution_count": 36,
   "metadata": {},
   "outputs": [
    {
     "name": "stdout",
     "output_type": "stream",
     "text": [
      "<class 'pandas.core.frame.DataFrame'>\n",
      "RangeIndex: 314046 entries, 0 to 314045\n",
      "Data columns (total 3 columns):\n",
      " #   Column  Non-Null Count   Dtype \n",
      "---  ------  --------------   ----- \n",
      " 0   s       314046 non-null  object\n",
      " 1   p       314046 non-null  object\n",
      " 2   o       314046 non-null  object\n",
      "dtypes: object(3)\n",
      "memory usage: 7.2+ MB\n"
     ]
    }
   ],
   "source": [
    "df.info()"
   ]
  },
  {
   "cell_type": "code",
   "execution_count": 37,
   "metadata": {},
   "outputs": [
    {
     "ename": "KeyboardInterrupt",
     "evalue": "",
     "output_type": "error",
     "traceback": [
      "\u001b[0;31m---------------------------------------------------------------------------\u001b[0m",
      "\u001b[0;31mKeyboardInterrupt\u001b[0m                         Traceback (most recent call last)",
      "\u001b[0;32m<ipython-input-37-ac6630c062ac>\u001b[0m in \u001b[0;36m<module>\u001b[0;34m\u001b[0m\n\u001b[1;32m      1\u001b[0m \u001b[0msubgraph\u001b[0m \u001b[0;34m=\u001b[0m \u001b[0mkglab\u001b[0m\u001b[0;34m.\u001b[0m\u001b[0mSubgraphTensor\u001b[0m\u001b[0;34m(\u001b[0m\u001b[0mkg\u001b[0m\u001b[0;34m)\u001b[0m\u001b[0;34m\u001b[0m\u001b[0;34m\u001b[0m\u001b[0m\n\u001b[0;32m----> 2\u001b[0;31m \u001b[0mpyvis_graph\u001b[0m \u001b[0;34m=\u001b[0m \u001b[0msubgraph\u001b[0m\u001b[0;34m.\u001b[0m\u001b[0mbuild_pyvis_graph\u001b[0m\u001b[0;34m(\u001b[0m\u001b[0mnotebook\u001b[0m\u001b[0;34m=\u001b[0m\u001b[0;32mTrue\u001b[0m\u001b[0;34m)\u001b[0m\u001b[0;34m\u001b[0m\u001b[0;34m\u001b[0m\u001b[0m\n\u001b[0m\u001b[1;32m      3\u001b[0m \u001b[0mpyvis_graph\u001b[0m\u001b[0;34m.\u001b[0m\u001b[0mforce_atlas_2based\u001b[0m\u001b[0;34m(\u001b[0m\u001b[0;34m)\u001b[0m\u001b[0;34m\u001b[0m\u001b[0;34m\u001b[0m\u001b[0m\n\u001b[1;32m      4\u001b[0m \u001b[0mpyvis_graph\u001b[0m\u001b[0;34m.\u001b[0m\u001b[0mshow\u001b[0m\u001b[0;34m(\u001b[0m\u001b[0;34m\"tmp.fig03.html\"\u001b[0m\u001b[0;34m)\u001b[0m\u001b[0;34m\u001b[0m\u001b[0;34m\u001b[0m\u001b[0m\n",
      "\u001b[0;32m~/02021/py3-env/lib/python3.9/site-packages/kglab/subg.py\u001b[0m in \u001b[0;36mbuild_pyvis_graph\u001b[0;34m(self, notebook, style)\u001b[0m\n\u001b[1;32m    487\u001b[0m             \u001b[0;31m# label the predicate\u001b[0m\u001b[0;34m\u001b[0m\u001b[0;34m\u001b[0m\u001b[0;34m\u001b[0m\u001b[0m\n\u001b[1;32m    488\u001b[0m             \u001b[0mp_label\u001b[0m \u001b[0;34m=\u001b[0m \u001b[0mself\u001b[0m\u001b[0;34m.\u001b[0m\u001b[0mn3fy\u001b[0m\u001b[0;34m(\u001b[0m\u001b[0mp\u001b[0m\u001b[0;34m)\u001b[0m\u001b[0;34m\u001b[0m\u001b[0;34m\u001b[0m\u001b[0m\n\u001b[0;32m--> 489\u001b[0;31m             \u001b[0mpyvis_graph\u001b[0m\u001b[0;34m.\u001b[0m\u001b[0madd_edge\u001b[0m\u001b[0;34m(\u001b[0m\u001b[0ms_id\u001b[0m\u001b[0;34m,\u001b[0m \u001b[0mo_id\u001b[0m\u001b[0;34m,\u001b[0m \u001b[0mlabel\u001b[0m\u001b[0;34m=\u001b[0m\u001b[0mp_label\u001b[0m\u001b[0;34m)\u001b[0m\u001b[0;34m\u001b[0m\u001b[0;34m\u001b[0m\u001b[0m\n\u001b[0m\u001b[1;32m    490\u001b[0m \u001b[0;34m\u001b[0m\u001b[0m\n\u001b[1;32m    491\u001b[0m         \u001b[0;32mreturn\u001b[0m \u001b[0mpyvis_graph\u001b[0m\u001b[0;34m\u001b[0m\u001b[0;34m\u001b[0m\u001b[0m\n",
      "\u001b[0;32m~/02021/py3-env/lib/python3.9/site-packages/pyvis/network.py\u001b[0m in \u001b[0;36madd_edge\u001b[0;34m(self, source, to, **options)\u001b[0m\n\u001b[1;32m    343\u001b[0m         \u001b[0;32mif\u001b[0m \u001b[0;32mnot\u001b[0m \u001b[0mself\u001b[0m\u001b[0;34m.\u001b[0m\u001b[0mdirected\u001b[0m\u001b[0;34m:\u001b[0m\u001b[0;34m\u001b[0m\u001b[0;34m\u001b[0m\u001b[0m\n\u001b[1;32m    344\u001b[0m             \u001b[0;32mfor\u001b[0m \u001b[0me\u001b[0m \u001b[0;32min\u001b[0m \u001b[0mself\u001b[0m\u001b[0;34m.\u001b[0m\u001b[0medges\u001b[0m\u001b[0;34m:\u001b[0m\u001b[0;34m\u001b[0m\u001b[0;34m\u001b[0m\u001b[0m\n\u001b[0;32m--> 345\u001b[0;31m                 \u001b[0mfrm\u001b[0m \u001b[0;34m=\u001b[0m \u001b[0me\u001b[0m\u001b[0;34m[\u001b[0m\u001b[0;34m'from'\u001b[0m\u001b[0;34m]\u001b[0m\u001b[0;34m\u001b[0m\u001b[0;34m\u001b[0m\u001b[0m\n\u001b[0m\u001b[1;32m    346\u001b[0m                 \u001b[0mdest\u001b[0m \u001b[0;34m=\u001b[0m \u001b[0me\u001b[0m\u001b[0;34m[\u001b[0m\u001b[0;34m'to'\u001b[0m\u001b[0;34m]\u001b[0m\u001b[0;34m\u001b[0m\u001b[0;34m\u001b[0m\u001b[0m\n\u001b[1;32m    347\u001b[0m                 if (\n",
      "\u001b[0;31mKeyboardInterrupt\u001b[0m: "
     ]
    }
   ],
   "source": [
    "subgraph = kglab.SubgraphTensor(kg)\n",
    "pyvis_graph = subgraph.build_pyvis_graph(notebook=True)\n",
    "pyvis_graph.force_atlas_2based()\n",
    "pyvis_graph.show(\"tmp.fig03.html\")"
   ]
  },
  {
   "cell_type": "code",
   "execution_count": 39,
   "metadata": {},
   "outputs": [],
   "source": [
    "second_kg = kglab.KnowledgeGraph(\n",
    "    name = \"Sinopia Stage Second KG\",\n",
    "    base_uri = \"https://api.stage.sinopia.io/resource/\",\n",
    "    namespaces = namespaces,\n",
    "    import_graph=dev_rdf['resources'][1]['graph']\n",
    ")"
   ]
  },
  {
   "cell_type": "code",
   "execution_count": 40,
   "metadata": {},
   "outputs": [
    {
     "data": {
      "text/html": [
       "\n",
       "        <iframe\n",
       "            width=\"500px\"\n",
       "            height=\"500px\"\n",
       "            src=\"tmp.fig03.html\"\n",
       "            frameborder=\"0\"\n",
       "            allowfullscreen\n",
       "        ></iframe>\n",
       "        "
      ],
      "text/plain": [
       "<IPython.lib.display.IFrame at 0x7fb9b6dc9850>"
      ]
     },
     "execution_count": 40,
     "metadata": {},
     "output_type": "execute_result"
    }
   ],
   "source": [
    "subgraph = kglab.SubgraphTensor(second_kg)\n",
    "pyvis_graph = subgraph.build_pyvis_graph(notebook=True)\n",
    "pyvis_graph.force_atlas_2based()\n",
    "pyvis_graph.show(\"tmp.fig03.html\")"
   ]
  },
  {
   "cell_type": "code",
   "execution_count": null,
   "metadata": {},
   "outputs": [],
   "source": []
  }
 ],
 "metadata": {
  "kernelspec": {
   "display_name": "Python 3",
   "language": "python",
   "name": "python3"
  },
  "language_info": {
   "codemirror_mode": {
    "name": "ipython",
    "version": 3
   },
   "file_extension": ".py",
   "mimetype": "text/x-python",
   "name": "python",
   "nbconvert_exporter": "python",
   "pygments_lexer": "ipython3",
   "version": "3.9.1"
  }
 },
 "nbformat": 4,
 "nbformat_minor": 4
}
